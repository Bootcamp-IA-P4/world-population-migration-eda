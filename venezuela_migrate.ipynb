{
 "cells": [
  {
   "cell_type": "markdown",
   "metadata": {},
   "source": [
    "## Exploración de Datos sobre la Crisis de Refugiados de Venezuela (2014-2022)"
   ]
  },
  {
   "cell_type": "markdown",
   "metadata": {},
   "source": [
    "### 1. Importación de Librerías y Carga de Datos"
   ]
  },
  {
   "cell_type": "code",
   "execution_count": 11,
   "metadata": {},
   "outputs": [],
   "source": [
    "import pandas as pd\n",
    "import numpy as np\n",
    "\n",
    "# Importamos librerias para visualización de datos\n",
    "import matplotlib.pyplot as plt\n",
    "import seaborn as sns\n",
    "\n",
    "# Configuramos las gráficas\n",
    "plt.style.use('seaborn-v0_8') \n",
    "\n",
    "# Configurar pandas para mostrar números completos sin notación científica\n",
    "pd.set_option('display.float_format', '{:.0f}'.format)"
   ]
  },
  {
   "cell_type": "markdown",
   "metadata": {},
   "source": [
    "#### 1.2. Carga de los Datasets"
   ]
  },
  {
   "cell_type": "markdown",
   "metadata": {},
   "source": [
    "##### 1.2.1. Cargamos Dataset de Polabión Mundial"
   ]
  },
  {
   "cell_type": "code",
   "execution_count": 12,
   "metadata": {},
   "outputs": [
    {
     "name": "stdout",
     "output_type": "stream",
     "text": [
      "El DataFrame tiene 266 filas y 64 columnas.\n"
     ]
    }
   ],
   "source": [
    "#  Cargar el archivo CSV en un DataFrame de Pandas\n",
    "df = pd.read_csv('data/world_population.csv')\n",
    "\n",
    "# Mostrar cuantas filas y columnas tiene el DataFrame\n",
    "print(f\"El DataFrame tiene {df.shape[0]} filas y {df.shape[1]} columnas.\")"
   ]
  },
  {
   "cell_type": "markdown",
   "metadata": {},
   "source": [
    "##### 1.2.2. Cargamos Dataset del Banco Mundial de Migraciones Netas por Países"
   ]
  },
  {
   "cell_type": "code",
   "execution_count": 13,
   "metadata": {},
   "outputs": [
    {
     "name": "stdout",
     "output_type": "stream",
     "text": [
      "El DataFrame tiene 268 filas y 1 columnas.\n"
     ]
    }
   ],
   "source": [
    "#  Cargar el archivo CSV en un DataFrame de Pandas\n",
    "dfm = pd.read_csv('data/API_SM.POP.NETM_DS2_en_csv_v2_13382.csv', sep=';')\n",
    "\n",
    "# Mostrar cuantas filas y columnas tiene el DataFrame\n",
    "print(f\"El DataFrame tiene {dfm.shape[0]} filas y {dfm.shape[1]} columnas.\")"
   ]
  },
  {
   "cell_type": "markdown",
   "metadata": {},
   "source": [
    "#### 1.3. Información de los DataFrame"
   ]
  },
  {
   "cell_type": "code",
   "execution_count": 15,
   "metadata": {},
   "outputs": [
    {
     "name": "stdout",
     "output_type": "stream",
     "text": [
      "<class 'pandas.core.frame.DataFrame'>\n",
      "RangeIndex: 266 entries, 0 to 265\n",
      "Data columns (total 64 columns):\n",
      " #   Column        Non-Null Count  Dtype  \n",
      "---  ------        --------------  -----  \n",
      " 0   Country Name  266 non-null    object \n",
      " 1   1960          266 non-null    float64\n",
      " 2   1961          266 non-null    float64\n",
      " 3   1962          266 non-null    float64\n",
      " 4   1963          266 non-null    float64\n",
      " 5   1964          266 non-null    float64\n",
      " 6   1965          266 non-null    float64\n",
      " 7   1966          266 non-null    float64\n",
      " 8   1967          266 non-null    float64\n",
      " 9   1968          266 non-null    float64\n",
      " 10  1969          266 non-null    float64\n",
      " 11  1970          266 non-null    float64\n",
      " 12  1971          266 non-null    float64\n",
      " 13  1972          266 non-null    float64\n",
      " 14  1973          266 non-null    float64\n",
      " 15  1974          266 non-null    float64\n",
      " 16  1975          266 non-null    float64\n",
      " 17  1976          266 non-null    float64\n",
      " 18  1977          266 non-null    float64\n",
      " 19  1978          266 non-null    float64\n",
      " 20  1979          266 non-null    float64\n",
      " 21  1980          266 non-null    float64\n",
      " 22  1981          266 non-null    float64\n",
      " 23  1982          266 non-null    float64\n",
      " 24  1983          266 non-null    float64\n",
      " 25  1984          266 non-null    float64\n",
      " 26  1985          266 non-null    float64\n",
      " 27  1986          266 non-null    float64\n",
      " 28  1987          266 non-null    float64\n",
      " 29  1988          266 non-null    float64\n",
      " 30  1989          266 non-null    float64\n",
      " 31  1990          266 non-null    float64\n",
      " 32  1991          266 non-null    float64\n",
      " 33  1992          266 non-null    float64\n",
      " 34  1993          266 non-null    float64\n",
      " 35  1994          266 non-null    float64\n",
      " 36  1995          266 non-null    float64\n",
      " 37  1996          266 non-null    float64\n",
      " 38  1997          266 non-null    float64\n",
      " 39  1998          266 non-null    float64\n",
      " 40  1999          266 non-null    float64\n",
      " 41  2000          266 non-null    float64\n",
      " 42  2001          266 non-null    float64\n",
      " 43  2002          266 non-null    float64\n",
      " 44  2003          266 non-null    float64\n",
      " 45  2004          266 non-null    float64\n",
      " 46  2005          266 non-null    float64\n",
      " 47  2006          266 non-null    float64\n",
      " 48  2007          266 non-null    float64\n",
      " 49  2008          266 non-null    float64\n",
      " 50  2009          266 non-null    float64\n",
      " 51  2010          266 non-null    float64\n",
      " 52  2011          266 non-null    float64\n",
      " 53  2012          266 non-null    float64\n",
      " 54  2013          266 non-null    float64\n",
      " 55  2014          266 non-null    float64\n",
      " 56  2015          266 non-null    float64\n",
      " 57  2016          266 non-null    float64\n",
      " 58  2017          266 non-null    float64\n",
      " 59  2018          266 non-null    float64\n",
      " 60  2019          266 non-null    float64\n",
      " 61  2020          266 non-null    float64\n",
      " 62  2021          266 non-null    float64\n",
      " 63  2022          266 non-null    float64\n",
      "dtypes: float64(63), object(1)\n",
      "memory usage: 133.1+ KB\n"
     ]
    }
   ],
   "source": [
    "# Información sobre el dataframe población\n",
    "df.info()"
   ]
  }
 ],
 "metadata": {
  "kernelspec": {
   "display_name": "venv",
   "language": "python",
   "name": "python3"
  },
  "language_info": {
   "codemirror_mode": {
    "name": "ipython",
    "version": 3
   },
   "file_extension": ".py",
   "mimetype": "text/x-python",
   "name": "python",
   "nbconvert_exporter": "python",
   "pygments_lexer": "ipython3",
   "version": "3.12.7"
  }
 },
 "nbformat": 4,
 "nbformat_minor": 2
}
