{
 "cells": [
  {
   "cell_type": "markdown",
   "metadata": {},
   "source": [
    "## Exploración de Datos sobre la Crisis de Refugiados de Venezuela (2014-2022)"
   ]
  },
  {
   "cell_type": "markdown",
   "metadata": {},
   "source": [
    "### 1. Importación de Librerías y Carga de Datos"
   ]
  },
  {
   "cell_type": "code",
   "execution_count": 17,
   "metadata": {},
   "outputs": [],
   "source": [
    "import pandas as pd\n",
    "import numpy as np\n",
    "\n",
    "# Importamos librerias para visualización de datos\n",
    "import matplotlib.pyplot as plt\n",
    "import seaborn as sns\n",
    "\n",
    "# Configuramos las gráficas\n",
    "plt.style.use('seaborn-v0_8') \n",
    "\n",
    "# Configurar pandas para mostrar números completos sin notación científica\n",
    "pd.set_option('display.float_format', '{:.0f}'.format)"
   ]
  },
  {
   "cell_type": "markdown",
   "metadata": {},
   "source": [
    "#### 1.2. Carga de los Datasets"
   ]
  },
  {
   "cell_type": "code",
   "execution_count": 18,
   "metadata": {},
   "outputs": [
    {
     "name": "stdout",
     "output_type": "stream",
     "text": [
      "El DataFrame tiene 16758 filas y 3 columnas.\n"
     ]
    }
   ],
   "source": [
    "#  Cargar el archivo CSV en un DataFrame de  (Población Mundial, ya lo importamos en formato largo\n",
    "df = pd.read_csv('../data/world_population_long.csv')\n",
    "\n",
    "# Mostrar cuantas filas y columnas tiene el DataFrame\n",
    "print(f\"El DataFrame tiene {df.shape[0]} filas y {df.shape[1]} columnas.\")"
   ]
  },
  {
   "cell_type": "code",
   "execution_count": 19,
   "metadata": {},
   "outputs": [
    {
     "name": "stdout",
     "output_type": "stream",
     "text": [
      "El DataFrame tiene 266 filas y 69 columnas.\n"
     ]
    }
   ],
   "source": [
    "# Cargar el dataset de migración saltando las primeras 4 filas de Metadata\n",
    "dfm = pd.read_csv(\"../data/API_SM.POP.NETM_DS2_en_csv_v2_13382.csv\", skiprows=4)  \n",
    "\n",
    "# Mostrar cuantas filas y columnas tiene el dataset\n",
    "print(f\"El DataFrame tiene {dfm.shape[0]} filas y {dfm.shape[1]} columnas.\")"
   ]
  },
  {
   "cell_type": "markdown",
   "metadata": {},
   "source": [
    "#### 1.3. Información de los DataFrame"
   ]
  },
  {
   "cell_type": "code",
   "execution_count": 20,
   "metadata": {},
   "outputs": [
    {
     "name": "stdout",
     "output_type": "stream",
     "text": [
      "<class 'pandas.core.frame.DataFrame'>\n",
      "RangeIndex: 16758 entries, 0 to 16757\n",
      "Data columns (total 3 columns):\n",
      " #   Column        Non-Null Count  Dtype  \n",
      "---  ------        --------------  -----  \n",
      " 0   Country Name  16758 non-null  object \n",
      " 1   Year          16758 non-null  int64  \n",
      " 2   Population    16758 non-null  float64\n",
      "dtypes: float64(1), int64(1), object(1)\n",
      "memory usage: 392.9+ KB\n"
     ]
    }
   ],
   "source": [
    "# Información sobre el dataframe población\n",
    "df.info()"
   ]
  },
  {
   "cell_type": "code",
   "execution_count": 21,
   "metadata": {},
   "outputs": [
    {
     "name": "stdout",
     "output_type": "stream",
     "text": [
      "<class 'pandas.core.frame.DataFrame'>\n",
      "RangeIndex: 266 entries, 0 to 265\n",
      "Data columns (total 69 columns):\n",
      " #   Column          Non-Null Count  Dtype  \n",
      "---  ------          --------------  -----  \n",
      " 0   Country Name    266 non-null    object \n",
      " 1   Country Code    266 non-null    object \n",
      " 2   Indicator Name  266 non-null    object \n",
      " 3   Indicator Code  266 non-null    object \n",
      " 4   1960            265 non-null    float64\n",
      " 5   1961            265 non-null    float64\n",
      " 6   1962            265 non-null    float64\n",
      " 7   1963            265 non-null    float64\n",
      " 8   1964            265 non-null    float64\n",
      " 9   1965            265 non-null    float64\n",
      " 10  1966            265 non-null    float64\n",
      " 11  1967            265 non-null    float64\n",
      " 12  1968            265 non-null    float64\n",
      " 13  1969            265 non-null    float64\n",
      " 14  1970            265 non-null    float64\n",
      " 15  1971            265 non-null    float64\n",
      " 16  1972            265 non-null    float64\n",
      " 17  1973            265 non-null    float64\n",
      " 18  1974            265 non-null    float64\n",
      " 19  1975            265 non-null    float64\n",
      " 20  1976            265 non-null    float64\n",
      " 21  1977            265 non-null    float64\n",
      " 22  1978            265 non-null    float64\n",
      " 23  1979            265 non-null    float64\n",
      " 24  1980            265 non-null    float64\n",
      " 25  1981            265 non-null    float64\n",
      " 26  1982            265 non-null    float64\n",
      " 27  1983            265 non-null    float64\n",
      " 28  1984            265 non-null    float64\n",
      " 29  1985            265 non-null    float64\n",
      " 30  1986            265 non-null    float64\n",
      " 31  1987            265 non-null    float64\n",
      " 32  1988            265 non-null    float64\n",
      " 33  1989            265 non-null    float64\n",
      " 34  1990            265 non-null    float64\n",
      " 35  1991            265 non-null    float64\n",
      " 36  1992            265 non-null    float64\n",
      " 37  1993            265 non-null    float64\n",
      " 38  1994            265 non-null    float64\n",
      " 39  1995            265 non-null    float64\n",
      " 40  1996            265 non-null    float64\n",
      " 41  1997            265 non-null    float64\n",
      " 42  1998            265 non-null    float64\n",
      " 43  1999            265 non-null    float64\n",
      " 44  2000            265 non-null    float64\n",
      " 45  2001            265 non-null    float64\n",
      " 46  2002            265 non-null    float64\n",
      " 47  2003            265 non-null    float64\n",
      " 48  2004            265 non-null    float64\n",
      " 49  2005            265 non-null    float64\n",
      " 50  2006            265 non-null    float64\n",
      " 51  2007            265 non-null    float64\n",
      " 52  2008            265 non-null    float64\n",
      " 53  2009            265 non-null    float64\n",
      " 54  2010            265 non-null    float64\n",
      " 55  2011            265 non-null    float64\n",
      " 56  2012            265 non-null    float64\n",
      " 57  2013            265 non-null    float64\n",
      " 58  2014            265 non-null    float64\n",
      " 59  2015            265 non-null    float64\n",
      " 60  2016            265 non-null    float64\n",
      " 61  2017            265 non-null    float64\n",
      " 62  2018            265 non-null    float64\n",
      " 63  2019            265 non-null    float64\n",
      " 64  2020            265 non-null    float64\n",
      " 65  2021            265 non-null    float64\n",
      " 66  2022            265 non-null    float64\n",
      " 67  2023            265 non-null    float64\n",
      " 68  Unnamed: 68     0 non-null      float64\n",
      "dtypes: float64(65), object(4)\n",
      "memory usage: 143.5+ KB\n"
     ]
    }
   ],
   "source": [
    "# Información sobre el dataframe migración\n",
    "dfm.info()"
   ]
  },
  {
   "cell_type": "markdown",
   "metadata": {},
   "source": [
    "#### 1.4. Visualización de las Primeras Filas de los DataFrame"
   ]
  },
  {
   "cell_type": "code",
   "execution_count": 22,
   "metadata": {},
   "outputs": [
    {
     "data": {
      "text/html": [
       "<div>\n",
       "<style scoped>\n",
       "    .dataframe tbody tr th:only-of-type {\n",
       "        vertical-align: middle;\n",
       "    }\n",
       "\n",
       "    .dataframe tbody tr th {\n",
       "        vertical-align: top;\n",
       "    }\n",
       "\n",
       "    .dataframe thead th {\n",
       "        text-align: right;\n",
       "    }\n",
       "</style>\n",
       "<table border=\"1\" class=\"dataframe\">\n",
       "  <thead>\n",
       "    <tr style=\"text-align: right;\">\n",
       "      <th></th>\n",
       "      <th>Country Name</th>\n",
       "      <th>Year</th>\n",
       "      <th>Population</th>\n",
       "    </tr>\n",
       "  </thead>\n",
       "  <tbody>\n",
       "    <tr>\n",
       "      <th>0</th>\n",
       "      <td>Afghanistan</td>\n",
       "      <td>1960</td>\n",
       "      <td>8622466</td>\n",
       "    </tr>\n",
       "    <tr>\n",
       "      <th>1</th>\n",
       "      <td>Afghanistan</td>\n",
       "      <td>1961</td>\n",
       "      <td>8790140</td>\n",
       "    </tr>\n",
       "    <tr>\n",
       "      <th>2</th>\n",
       "      <td>Afghanistan</td>\n",
       "      <td>1962</td>\n",
       "      <td>8969047</td>\n",
       "    </tr>\n",
       "    <tr>\n",
       "      <th>3</th>\n",
       "      <td>Afghanistan</td>\n",
       "      <td>1963</td>\n",
       "      <td>9157465</td>\n",
       "    </tr>\n",
       "    <tr>\n",
       "      <th>4</th>\n",
       "      <td>Afghanistan</td>\n",
       "      <td>1964</td>\n",
       "      <td>9355514</td>\n",
       "    </tr>\n",
       "  </tbody>\n",
       "</table>\n",
       "</div>"
      ],
      "text/plain": [
       "  Country Name  Year  Population\n",
       "0  Afghanistan  1960     8622466\n",
       "1  Afghanistan  1961     8790140\n",
       "2  Afghanistan  1962     8969047\n",
       "3  Afghanistan  1963     9157465\n",
       "4  Afghanistan  1964     9355514"
      ]
     },
     "execution_count": 22,
     "metadata": {},
     "output_type": "execute_result"
    }
   ],
   "source": [
    "# Mostrar las primeras filas del DataFrame para entender su estructura y contenido.\n",
    "df.head()"
   ]
  },
  {
   "cell_type": "code",
   "execution_count": 23,
   "metadata": {},
   "outputs": [
    {
     "data": {
      "text/html": [
       "<div>\n",
       "<style scoped>\n",
       "    .dataframe tbody tr th:only-of-type {\n",
       "        vertical-align: middle;\n",
       "    }\n",
       "\n",
       "    .dataframe tbody tr th {\n",
       "        vertical-align: top;\n",
       "    }\n",
       "\n",
       "    .dataframe thead th {\n",
       "        text-align: right;\n",
       "    }\n",
       "</style>\n",
       "<table border=\"1\" class=\"dataframe\">\n",
       "  <thead>\n",
       "    <tr style=\"text-align: right;\">\n",
       "      <th></th>\n",
       "      <th>Country Name</th>\n",
       "      <th>Country Code</th>\n",
       "      <th>Indicator Name</th>\n",
       "      <th>Indicator Code</th>\n",
       "      <th>1960</th>\n",
       "      <th>1961</th>\n",
       "      <th>1962</th>\n",
       "      <th>1963</th>\n",
       "      <th>1964</th>\n",
       "      <th>1965</th>\n",
       "      <th>...</th>\n",
       "      <th>2015</th>\n",
       "      <th>2016</th>\n",
       "      <th>2017</th>\n",
       "      <th>2018</th>\n",
       "      <th>2019</th>\n",
       "      <th>2020</th>\n",
       "      <th>2021</th>\n",
       "      <th>2022</th>\n",
       "      <th>2023</th>\n",
       "      <th>Unnamed: 68</th>\n",
       "    </tr>\n",
       "  </thead>\n",
       "  <tbody>\n",
       "    <tr>\n",
       "      <th>0</th>\n",
       "      <td>Aruba</td>\n",
       "      <td>ABW</td>\n",
       "      <td>Net migration</td>\n",
       "      <td>SM.POP.NETM</td>\n",
       "      <td>-788</td>\n",
       "      <td>-566</td>\n",
       "      <td>-601</td>\n",
       "      <td>-650</td>\n",
       "      <td>-682</td>\n",
       "      <td>-727</td>\n",
       "      <td>...</td>\n",
       "      <td>373</td>\n",
       "      <td>405</td>\n",
       "      <td>434</td>\n",
       "      <td>431</td>\n",
       "      <td>420</td>\n",
       "      <td>0</td>\n",
       "      <td>503</td>\n",
       "      <td>152</td>\n",
       "      <td>147</td>\n",
       "      <td>NaN</td>\n",
       "    </tr>\n",
       "    <tr>\n",
       "      <th>1</th>\n",
       "      <td>Africa Eastern and Southern</td>\n",
       "      <td>AFE</td>\n",
       "      <td>Net migration</td>\n",
       "      <td>SM.POP.NETM</td>\n",
       "      <td>-102704</td>\n",
       "      <td>-38646</td>\n",
       "      <td>-56414</td>\n",
       "      <td>-42809</td>\n",
       "      <td>22280</td>\n",
       "      <td>7627</td>\n",
       "      <td>...</td>\n",
       "      <td>151528</td>\n",
       "      <td>-799850</td>\n",
       "      <td>340934</td>\n",
       "      <td>327087</td>\n",
       "      <td>100706</td>\n",
       "      <td>340127</td>\n",
       "      <td>187508</td>\n",
       "      <td>-220428</td>\n",
       "      <td>-989975</td>\n",
       "      <td>NaN</td>\n",
       "    </tr>\n",
       "    <tr>\n",
       "      <th>2</th>\n",
       "      <td>Afghanistan</td>\n",
       "      <td>AFG</td>\n",
       "      <td>Net migration</td>\n",
       "      <td>SM.POP.NETM</td>\n",
       "      <td>2606</td>\n",
       "      <td>6109</td>\n",
       "      <td>7016</td>\n",
       "      <td>6681</td>\n",
       "      <td>7079</td>\n",
       "      <td>10695</td>\n",
       "      <td>...</td>\n",
       "      <td>-286314</td>\n",
       "      <td>-143049</td>\n",
       "      <td>-71491</td>\n",
       "      <td>-36753</td>\n",
       "      <td>9159</td>\n",
       "      <td>143634</td>\n",
       "      <td>-548784</td>\n",
       "      <td>-647402</td>\n",
       "      <td>-48958</td>\n",
       "      <td>NaN</td>\n",
       "    </tr>\n",
       "    <tr>\n",
       "      <th>3</th>\n",
       "      <td>Africa Western and Central</td>\n",
       "      <td>AFW</td>\n",
       "      <td>Net migration</td>\n",
       "      <td>SM.POP.NETM</td>\n",
       "      <td>-759</td>\n",
       "      <td>-36991</td>\n",
       "      <td>-31675</td>\n",
       "      <td>-32310</td>\n",
       "      <td>-40403</td>\n",
       "      <td>-11060</td>\n",
       "      <td>...</td>\n",
       "      <td>-247654</td>\n",
       "      <td>50874</td>\n",
       "      <td>-72945</td>\n",
       "      <td>-178068</td>\n",
       "      <td>-270812</td>\n",
       "      <td>-39974</td>\n",
       "      <td>-149585</td>\n",
       "      <td>-81809</td>\n",
       "      <td>327673</td>\n",
       "      <td>NaN</td>\n",
       "    </tr>\n",
       "    <tr>\n",
       "      <th>4</th>\n",
       "      <td>Angola</td>\n",
       "      <td>AGO</td>\n",
       "      <td>Net migration</td>\n",
       "      <td>SM.POP.NETM</td>\n",
       "      <td>-40935</td>\n",
       "      <td>-74774</td>\n",
       "      <td>-77265</td>\n",
       "      <td>-78700</td>\n",
       "      <td>-79977</td>\n",
       "      <td>-81111</td>\n",
       "      <td>...</td>\n",
       "      <td>74171</td>\n",
       "      <td>91614</td>\n",
       "      <td>77731</td>\n",
       "      <td>61632</td>\n",
       "      <td>58984</td>\n",
       "      <td>7556</td>\n",
       "      <td>29094</td>\n",
       "      <td>-995</td>\n",
       "      <td>-995</td>\n",
       "      <td>NaN</td>\n",
       "    </tr>\n",
       "  </tbody>\n",
       "</table>\n",
       "<p>5 rows × 69 columns</p>\n",
       "</div>"
      ],
      "text/plain": [
       "                  Country Name Country Code Indicator Name Indicator Code  \\\n",
       "0                        Aruba          ABW  Net migration    SM.POP.NETM   \n",
       "1  Africa Eastern and Southern          AFE  Net migration    SM.POP.NETM   \n",
       "2                  Afghanistan          AFG  Net migration    SM.POP.NETM   \n",
       "3   Africa Western and Central          AFW  Net migration    SM.POP.NETM   \n",
       "4                       Angola          AGO  Net migration    SM.POP.NETM   \n",
       "\n",
       "     1960   1961   1962   1963   1964   1965  ...    2015    2016   2017  \\\n",
       "0    -788   -566   -601   -650   -682   -727  ...     373     405    434   \n",
       "1 -102704 -38646 -56414 -42809  22280   7627  ...  151528 -799850 340934   \n",
       "2    2606   6109   7016   6681   7079  10695  ... -286314 -143049 -71491   \n",
       "3    -759 -36991 -31675 -32310 -40403 -11060  ... -247654   50874 -72945   \n",
       "4  -40935 -74774 -77265 -78700 -79977 -81111  ...   74171   91614  77731   \n",
       "\n",
       "     2018    2019   2020    2021    2022    2023  Unnamed: 68  \n",
       "0     431     420      0     503     152     147          NaN  \n",
       "1  327087  100706 340127  187508 -220428 -989975          NaN  \n",
       "2  -36753    9159 143634 -548784 -647402  -48958          NaN  \n",
       "3 -178068 -270812 -39974 -149585  -81809  327673          NaN  \n",
       "4   61632   58984   7556   29094    -995    -995          NaN  \n",
       "\n",
       "[5 rows x 69 columns]"
      ]
     },
     "execution_count": 23,
     "metadata": {},
     "output_type": "execute_result"
    }
   ],
   "source": [
    "# Mostrar las primeras filas del DataFrame para entender su estructura y contenido.\n",
    "dfm.head()"
   ]
  },
  {
   "cell_type": "markdown",
   "metadata": {},
   "source": [
    "## 2. Procesamiento y Transformación de Datos"
   ]
  },
  {
   "cell_type": "markdown",
   "metadata": {},
   "source": [
    "#### 2.1. Conversión a Formato Largo y ordenar por países Dataset Migración"
   ]
  },
  {
   "cell_type": "markdown",
   "metadata": {},
   "source": [
    "##### 2.1.1. Primero eliminamos columnas que no necesitamos"
   ]
  },
  {
   "cell_type": "code",
   "execution_count": 24,
   "metadata": {},
   "outputs": [
    {
     "name": "stdout",
     "output_type": "stream",
     "text": [
      "\n",
      "Columnas después de eliminar:\n",
      "['Country Name', '1960', '1961', '1962', '1963', '1964', '1965', '1966', '1967', '1968', '1969', '1970', '1971', '1972', '1973', '1974', '1975', '1976', '1977', '1978', '1979', '1980', '1981', '1982', '1983', '1984', '1985', '1986', '1987', '1988', '1989', '1990', '1991', '1992', '1993', '1994', '1995', '1996', '1997', '1998', '1999', '2000', '2001', '2002', '2003', '2004', '2005', '2006', '2007', '2008', '2009', '2010', '2011', '2012', '2013', '2014', '2015', '2016', '2017', '2018', '2019', '2020', '2021', '2022', '2023']\n"
     ]
    }
   ],
   "source": [
    "columnas_a_eliminar = ['Country Code', 'Indicator Name', 'Indicator Code', 'Unnamed: 68']\n",
    "\n",
    "# Crear una copia del DataFrame sin esas columnas\n",
    "dfm_clean = dfm.drop(columns=columnas_a_eliminar)\n",
    "\n",
    "# Verificar las columnas restantes\n",
    "print(\"\\nColumnas después de eliminar:\")\n",
    "print(dfm_clean.columns.tolist())"
   ]
  },
  {
   "cell_type": "markdown",
   "metadata": {},
   "source": [
    "#### 2.1.2. Procedemos con la conversión a formato largo y ordenamos"
   ]
  },
  {
   "cell_type": "code",
   "execution_count": 25,
   "metadata": {},
   "outputs": [
    {
     "name": "stdout",
     "output_type": "stream",
     "text": [
      "Primeras filas del DataFrame de migración transformado:\n",
      "  Country Name  Year  Net_Migration\n",
      "0  Afghanistan  1960           2606\n",
      "1  Afghanistan  1961           6109\n",
      "2  Afghanistan  1962           7016\n",
      "3  Afghanistan  1963           6681\n",
      "4  Afghanistan  1964           7079\n",
      "5  Afghanistan  1965          10695\n",
      "6  Afghanistan  1966           3563\n",
      "7  Afghanistan  1967           6824\n",
      "8  Afghanistan  1968           3333\n",
      "9  Afghanistan  1969           2029\n"
     ]
    }
   ],
   "source": [
    "df_longm = pd.melt(\n",
    "  dfm_clean,\n",
    "  id_vars=['Country Name'], \n",
    "  var_name='Year',\n",
    "  value_name='Net_Migration'\n",
    ")\n",
    "\n",
    "# Ordenar el dataframe primero por país y luego por año\n",
    "df_longm = df_longm.sort_values(by=['Country Name', 'Year'])\n",
    "\n",
    "# Resetear los índices para que sean consecutivos\n",
    "df_longm = df_longm.reset_index(drop=True)\n",
    "\n",
    "# Mostrar las primeras filas para verificar la transformación inicial\n",
    "print(\"Primeras filas del DataFrame de migración transformado:\")\n",
    "print(df_longm.head(10))"
   ]
  },
  {
   "cell_type": "markdown",
   "metadata": {},
   "source": [
    "#### 2.2. Conversión del Tipo de Datos Dataset Migración"
   ]
  },
  {
   "cell_type": "code",
   "execution_count": 26,
   "metadata": {},
   "outputs": [
    {
     "name": "stdout",
     "output_type": "stream",
     "text": [
      "Tiipo de dato actual de la columna Year: object\n",
      "Nuevo tipo de dato de la columna Year: int64\n"
     ]
    },
    {
     "data": {
      "text/html": [
       "<div>\n",
       "<style scoped>\n",
       "    .dataframe tbody tr th:only-of-type {\n",
       "        vertical-align: middle;\n",
       "    }\n",
       "\n",
       "    .dataframe tbody tr th {\n",
       "        vertical-align: top;\n",
       "    }\n",
       "\n",
       "    .dataframe thead th {\n",
       "        text-align: right;\n",
       "    }\n",
       "</style>\n",
       "<table border=\"1\" class=\"dataframe\">\n",
       "  <thead>\n",
       "    <tr style=\"text-align: right;\">\n",
       "      <th></th>\n",
       "      <th>Country Name</th>\n",
       "      <th>Year</th>\n",
       "      <th>Net_Migration</th>\n",
       "    </tr>\n",
       "  </thead>\n",
       "  <tbody>\n",
       "    <tr>\n",
       "      <th>0</th>\n",
       "      <td>Afghanistan</td>\n",
       "      <td>1960</td>\n",
       "      <td>2606</td>\n",
       "    </tr>\n",
       "    <tr>\n",
       "      <th>1</th>\n",
       "      <td>Afghanistan</td>\n",
       "      <td>1961</td>\n",
       "      <td>6109</td>\n",
       "    </tr>\n",
       "    <tr>\n",
       "      <th>2</th>\n",
       "      <td>Afghanistan</td>\n",
       "      <td>1962</td>\n",
       "      <td>7016</td>\n",
       "    </tr>\n",
       "    <tr>\n",
       "      <th>3</th>\n",
       "      <td>Afghanistan</td>\n",
       "      <td>1963</td>\n",
       "      <td>6681</td>\n",
       "    </tr>\n",
       "    <tr>\n",
       "      <th>4</th>\n",
       "      <td>Afghanistan</td>\n",
       "      <td>1964</td>\n",
       "      <td>7079</td>\n",
       "    </tr>\n",
       "  </tbody>\n",
       "</table>\n",
       "</div>"
      ],
      "text/plain": [
       "  Country Name  Year  Net_Migration\n",
       "0  Afghanistan  1960           2606\n",
       "1  Afghanistan  1961           6109\n",
       "2  Afghanistan  1962           7016\n",
       "3  Afghanistan  1963           6681\n",
       "4  Afghanistan  1964           7079"
      ]
     },
     "execution_count": 26,
     "metadata": {},
     "output_type": "execute_result"
    }
   ],
   "source": [
    "# Verificar el tipo de dato actual de la columna 'Year'\n",
    "print(f\"Tiipo de dato actual de la columna Year: {df_longm['Year'].dtype}\")\n",
    "\n",
    "# Convertir el año a tipo numérico\n",
    "df_longm['Year'] = pd.to_numeric(df_longm['Year'])\n",
    "\n",
    "# Verificar que la conversión fue exitosa\n",
    "print(f\"Nuevo tipo de dato de la columna Year: {df_longm['Year'].dtype}\")\n",
    "\n",
    "# Mostrar algunos datos \n",
    "df_longm.head(5)"
   ]
  },
  {
   "cell_type": "markdown",
   "metadata": {},
   "source": [
    "## 2. Crear un nuevo DataFrame combinando ambos"
   ]
  },
  {
   "cell_type": "code",
   "execution_count": 27,
   "metadata": {},
   "outputs": [
    {
     "name": "stdout",
     "output_type": "stream",
     "text": [
      "DataFrame combinado:\n",
      "  Country Name  Year  Population  Net_Migration\n",
      "0  Afghanistan  1960     8622466           2606\n",
      "1  Afghanistan  1961     8790140           6109\n",
      "2  Afghanistan  1962     8969047           7016\n",
      "3  Afghanistan  1963     9157465           6681\n",
      "4  Afghanistan  1964     9355514           7079\n",
      "5  Afghanistan  1965     9565147          10695\n",
      "6  Afghanistan  1966     9783147           3563\n",
      "7  Afghanistan  1967    10010030           6824\n",
      "8  Afghanistan  1968    10247780           3333\n",
      "9  Afghanistan  1969    10494489           2029\n"
     ]
    }
   ],
   "source": [
    "# Combinamos dataframes utilizando innerjoin\n",
    "df_combined = pd.merge(\n",
    "    df,               \n",
    "    df_longm[['Country Name', 'Year', 'Net_Migration']],  \n",
    ")\n",
    "\n",
    "# Verificar el resultado\n",
    "print(\"DataFrame combinado:\")\n",
    "print(df_combined.head(10))"
   ]
  },
  {
   "cell_type": "markdown",
   "metadata": {},
   "source": [
    "## 3. Identificar países"
   ]
  },
  {
   "cell_type": "code",
   "execution_count": 28,
   "metadata": {},
   "outputs": [
    {
     "name": "stdout",
     "output_type": "stream",
     "text": [
      "['Afghanistan' 'Africa Eastern and Southern' 'Africa Western and Central'\n",
      " 'Albania' 'Algeria' 'American Samoa' 'Andorra' 'Angola'\n",
      " 'Antigua and Barbuda' 'Arab World' 'Argentina' 'Armenia' 'Aruba'\n",
      " 'Australia' 'Austria' 'Azerbaijan' 'Bahamas, The' 'Bahrain' 'Bangladesh'\n",
      " 'Barbados' 'Belarus' 'Belgium' 'Belize' 'Benin' 'Bermuda' 'Bhutan'\n",
      " 'Bolivia' 'Bosnia and Herzegovina' 'Botswana' 'Brazil'\n",
      " 'British Virgin Islands' 'Brunei Darussalam' 'Bulgaria' 'Burkina Faso'\n",
      " 'Burundi' 'Cabo Verde' 'Cambodia' 'Cameroon' 'Canada'\n",
      " 'Caribbean small states' 'Cayman Islands' 'Central African Republic'\n",
      " 'Central Europe and the Baltics' 'Chad' 'Channel Islands' 'Chile' 'China'\n",
      " 'Colombia' 'Comoros' 'Congo, Dem. Rep.' 'Congo, Rep.' 'Costa Rica'\n",
      " \"Cote d'Ivoire\" 'Croatia' 'Cuba' 'Curacao' 'Cyprus' 'Czechia' 'Denmark'\n",
      " 'Djibouti' 'Dominica' 'Dominican Republic' 'Early-demographic dividend'\n",
      " 'East Asia & Pacific' 'East Asia & Pacific (IDA & IBRD countries)'\n",
      " 'East Asia & Pacific (excluding high income)' 'Ecuador'\n",
      " 'Egypt, Arab Rep.' 'El Salvador' 'Equatorial Guinea' 'Eritrea' 'Estonia'\n",
      " 'Eswatini' 'Ethiopia' 'Euro area' 'Europe & Central Asia'\n",
      " 'Europe & Central Asia (IDA & IBRD countries)'\n",
      " 'Europe & Central Asia (excluding high income)' 'European Union'\n",
      " 'Faroe Islands' 'Fiji' 'Finland'\n",
      " 'Fragile and conflict affected situations' 'France' 'French Polynesia'\n",
      " 'Gabon' 'Gambia, The' 'Georgia' 'Germany' 'Ghana' 'Gibraltar' 'Greece'\n",
      " 'Greenland' 'Grenada' 'Guam' 'Guatemala' 'Guinea' 'Guinea-Bissau'\n",
      " 'Guyana' 'Haiti' 'Heavily indebted poor countries (HIPC)' 'High income'\n",
      " 'Honduras' 'Hong Kong SAR, China' 'Hungary' 'IBRD only'\n",
      " 'IDA & IBRD total' 'IDA blend' 'IDA only' 'IDA total' 'Iceland' 'India'\n",
      " 'Indonesia' 'Iran, Islamic Rep.' 'Iraq' 'Ireland' 'Isle of Man' 'Israel'\n",
      " 'Italy' 'Jamaica' 'Japan' 'Jordan' 'Kazakhstan' 'Kenya' 'Kiribati'\n",
      " \"Korea, Dem. People's Rep.\" 'Korea, Rep.' 'Kosovo' 'Kuwait'\n",
      " 'Kyrgyz Republic' 'Lao PDR' 'Late-demographic dividend'\n",
      " 'Latin America & Caribbean'\n",
      " 'Latin America & Caribbean (excluding high income)'\n",
      " 'Latin America & the Caribbean (IDA & IBRD countries)' 'Latvia'\n",
      " 'Least developed countries: UN classification' 'Lebanon' 'Lesotho'\n",
      " 'Liberia' 'Libya' 'Liechtenstein' 'Lithuania' 'Low & middle income'\n",
      " 'Low income' 'Lower middle income' 'Luxembourg' 'Macao SAR, China'\n",
      " 'Madagascar' 'Malawi' 'Malaysia' 'Maldives' 'Mali' 'Malta'\n",
      " 'Marshall Islands' 'Mauritania' 'Mauritius' 'Mexico'\n",
      " 'Micronesia, Fed. Sts.' 'Middle East & North Africa'\n",
      " 'Middle East & North Africa (IDA & IBRD countries)'\n",
      " 'Middle East & North Africa (excluding high income)' 'Middle income'\n",
      " 'Moldova' 'Monaco' 'Mongolia' 'Montenegro' 'Morocco' 'Mozambique'\n",
      " 'Myanmar' 'Namibia' 'Nauru' 'Nepal' 'Netherlands' 'New Caledonia'\n",
      " 'New Zealand' 'Nicaragua' 'Niger' 'Nigeria' 'North America'\n",
      " 'North Macedonia' 'Northern Mariana Islands' 'Norway' 'Not classified'\n",
      " 'OECD members' 'Oman' 'Other small states' 'Pacific island small states'\n",
      " 'Pakistan' 'Palau' 'Panama' 'Papua New Guinea' 'Paraguay' 'Peru'\n",
      " 'Philippines' 'Poland' 'Portugal' 'Post-demographic dividend'\n",
      " 'Pre-demographic dividend' 'Puerto Rico' 'Qatar' 'Romania'\n",
      " 'Russian Federation' 'Rwanda' 'Samoa' 'San Marino'\n",
      " 'Sao Tome and Principe' 'Saudi Arabia' 'Senegal' 'Serbia' 'Seychelles'\n",
      " 'Sierra Leone' 'Singapore' 'Sint Maarten (Dutch part)' 'Slovak Republic'\n",
      " 'Slovenia' 'Small states' 'Solomon Islands' 'Somalia' 'South Africa'\n",
      " 'South Asia' 'South Asia (IDA & IBRD)' 'South Sudan' 'Spain' 'Sri Lanka'\n",
      " 'St. Kitts and Nevis' 'St. Lucia' 'St. Martin (French part)'\n",
      " 'St. Vincent and the Grenadines' 'Sub-Saharan Africa'\n",
      " 'Sub-Saharan Africa (IDA & IBRD countries)'\n",
      " 'Sub-Saharan Africa (excluding high income)' 'Sudan' 'Suriname' 'Sweden'\n",
      " 'Switzerland' 'Syrian Arab Republic' 'Tajikistan' 'Tanzania' 'Thailand'\n",
      " 'Timor-Leste' 'Togo' 'Tonga' 'Trinidad and Tobago' 'Tunisia' 'Turkiye'\n",
      " 'Turkmenistan' 'Turks and Caicos Islands' 'Tuvalu' 'Uganda' 'Ukraine'\n",
      " 'United Arab Emirates' 'United Kingdom' 'United States'\n",
      " 'Upper middle income' 'Uruguay' 'Uzbekistan' 'Vanuatu' 'Venezuela, RB'\n",
      " 'Viet Nam' 'Virgin Islands (U.S.)' 'West Bank and Gaza' 'World'\n",
      " 'Yemen, Rep.' 'Zambia' 'Zimbabwe']\n"
     ]
    }
   ],
   "source": [
    "print(df_combined['Country Name'].unique()[:280])"
   ]
  },
  {
   "cell_type": "markdown",
   "metadata": {},
   "source": [
    "## 3. Análisis Exodo Venezolano (2014-2022)"
   ]
  },
  {
   "cell_type": "markdown",
   "metadata": {},
   "source": [
    "#### 3.1. Obtención de datos para el periodo seleccionado"
   ]
  },
  {
   "cell_type": "code",
   "execution_count": 41,
   "metadata": {},
   "outputs": [
    {
     "name": "stdout",
     "output_type": "stream",
     "text": [
      "Datos de Venezuela para el periodo 2014-2022:\n",
      "        Country Name  Year  Population  Net_Migration\n",
      "4968  European Union  2014   443601373         777635\n",
      "4969  European Union  2015   444570054        1510501\n",
      "4970  European Union  2016   445515422        1025819\n",
      "4971  European Union  2017   446215182        1145236\n",
      "4972  European Union  2018   447001100        1355231\n",
      "4973  European Union  2019   447367191        1415454\n",
      "4974  European Union  2020   447692315        1066639\n",
      "4975  European Union  2021   447178112        1023760\n",
      "4976  European Union  2022   447370510        4206655\n"
     ]
    }
   ],
   "source": [
    "venezuela = df_combined[df_combined['Country Name'] == 'European Union']\n",
    "\n",
    "# Filtrar el período de interés (2014-2022)\n",
    "venezuela_periodo = venezuela[(venezuela['Year'] >= 2014) & (venezuela['Year'] <= 2022)]\n",
    "\n",
    "# Verificar que tenemos el periodo correcto\n",
    "print(\"Datos de Venezuela para el periodo 2014-2022:\")\n",
    "print(venezuela_periodo.head(10))"
   ]
  },
  {
   "cell_type": "markdown",
   "metadata": {},
   "source": [
    "#### 2.2. Cálculo de la migración acumulada y su suma a la población para hacer una estimación de población sin éxodo"
   ]
  },
  {
   "cell_type": "code",
   "execution_count": 30,
   "metadata": {},
   "outputs": [
    {
     "name": "stdout",
     "output_type": "stream",
     "text": [
      "Datos de Venezuela con estimación de población sin éxodo:\n",
      "       Year  Population  Net_Migration  Migracion_Acumulada  \\\n",
      "16308  2014    30193258         -62437               -62437   \n",
      "16309  2015    30529716         -77417              -139854   \n",
      "16310  2016    30741464        -283270              -423124   \n",
      "16311  2017    30563433        -817376             -1240500   \n",
      "16312  2018    29825653       -1355602             -2596102   \n",
      "16313  2019    28971683        -975534             -3571636   \n",
      "16314  2020    28490453        -524649             -4096285   \n",
      "16315  2021    28199867        -332936             -4429221   \n",
      "16316  2022    28301696        -141107             -4570328   \n",
      "\n",
      "       Poblacion_Sin_Exodo  \n",
      "16308             30255695  \n",
      "16309             30669570  \n",
      "16310             31164588  \n",
      "16311             31803933  \n",
      "16312             32421755  \n",
      "16313             32543319  \n",
      "16314             32586738  \n",
      "16315             32629088  \n",
      "16316             32872024  \n"
     ]
    }
   ],
   "source": [
    "# Crear una copia del DataFrame \n",
    "venezuela_periodo = venezuela_periodo.copy()\n",
    "\n",
    "# Calcular la migración neta acumulada\n",
    "venezuela_periodo['Migracion_Acumulada'] = venezuela_periodo['Net_Migration'].cumsum()\n",
    "\n",
    "# Calcular la población estimada sin éxodo (población actual + migración acumulada negativa)\n",
    "venezuela_periodo['Poblacion_Sin_Exodo'] = venezuela_periodo['Population'] - venezuela_periodo['Migracion_Acumulada']\n",
    "\n",
    "# Mostrar el resultado\n",
    "print(\"Datos de Venezuela con estimación de población sin éxodo:\")\n",
    "print(venezuela_periodo[['Year', 'Population', 'Net_Migration', 'Migracion_Acumulada', 'Poblacion_Sin_Exodo']])"
   ]
  },
  {
   "cell_type": "markdown",
   "metadata": {},
   "source": [
    "#### 2.3. Gráfico de evolución de población e hipótesis de evolución poblacional sin éxodo"
   ]
  },
  {
   "cell_type": "code",
   "execution_count": 31,
   "metadata": {},
   "outputs": [
    {
     "data": {
      "image/png": "[encoded data removed]",
      "text/plain": [
       "<Figure size 1000x600 with 1 Axes>"
      ]
     },
     "metadata": {},
     "output_type": "display_data"
    }
   ],
   "source": [
    "# Crear la figura \n",
    "plt.figure(figsize=(10, 6))\n",
    "\n",
    "# Dibujar la línea de población real para Venezuela (convertida a millones)\n",
    "plt.plot(venezuela_periodo['Year'], venezuela_periodo['Population']/1000000, \n",
    "         'b-', linewidth=2.5, label='Población de Venezuela')\n",
    "\n",
    "# Añadir la línea de población sin éxodo\n",
    "plt.plot(venezuela_periodo['Year'], venezuela_periodo['Poblacion_Sin_Exodo']/1000000, \n",
    "         'g-', linewidth=2.5, label='Población estimada sin éxodo')\n",
    "\n",
    "# Añadir línea vertical para marcar el inicio de la crisis\n",
    "plt.axvline(x=2017, color='r', linestyle='--', alpha=0.7, \n",
    "            label='Intensificación de la crisis migratoria')\n",
    "\n",
    "# Personalizar el gráfico\n",
    "plt.title('Población de Venezuela (2014-2022)', fontsize=15)\n",
    "plt.xlabel('Año', fontsize=12)\n",
    "plt.ylabel('Población (millones)', fontsize=12)\n",
    "plt.grid(True, alpha=0.3)\n",
    "plt.legend(fontsize=10)\n",
    "\n",
    "# Límites del eje Y - Ajustado para que se vean ambas líneas\n",
    "plt.ylim(28, 33)  \n",
    "\n",
    "# Configurar el eje X para mostrar todos los años\n",
    "años = list(range(2014, 2023))  \n",
    "plt.xticks(años, [str(año) for año in años], rotation=45)\n",
    "\n",
    "# Añadir anotación para destacar la caída\n",
    "plt.annotate('Éxodo masivo\\nde venezolanos', \n",
    "             xy=(2017, 30), \n",
    "             xytext=(2019, 30.5),\n",
    "             arrowprops=dict(arrowstyle='->', connectionstyle='arc3', color='black'),\n",
    "             fontsize=10)\n",
    "\n",
    "# Mostrar el gráfico\n",
    "plt.show()"
   ]
  },
  {
   "cell_type": "markdown",
   "metadata": {},
   "source": [
    "<small>*La crisis de refugiados venezolana representa uno de los mayores desplazamientos humanos de la historia reciente de América Latina. A partir de 2016-2017, Venezuela experimentó una dramática disminución poblacional causada por la hiperinflación, escasez de alimentos y medicinas, y colapso de servicios básicos. Según nuestro análisis de datos poblacionales oficiales, Venezuela perdió aproximadamente 4.57 millones de habitantes por emigración entre 2014 y 2022, con el periodo más intenso entre 2017 y 2019, cuando más de 3.1 millones de personas abandonaron el país. Para 2022, la diferencia entre la población real (28.3 millones) y la proyección sin éxodo (32.9 millones) era de 4.57 millones de personas. Esta emigración masiva ha provocado una importante crisis humanitaria regional, especialmente en Colombia, Perú, Ecuador y Chile, principales países receptores de la diáspora venezolana.*</small>"
   ]
  }
 ],
 "metadata": {
  "kernelspec": {
   "display_name": "venv",
   "language": "python",
   "name": "python3"
  },
  "language_info": {
   "codemirror_mode": {
    "name": "ipython",
    "version": 3
   },
   "file_extension": ".py",
   "mimetype": "text/x-python",
   "name": "python",
   "nbconvert_exporter": "python",
   "pygments_lexer": "ipython3",
   "version": "3.12.7"
  }
 },
 "nbformat": 4,
 "nbformat_minor": 2
}
