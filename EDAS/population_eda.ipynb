{
 "cells": [
  {
   "cell_type": "markdown",
   "metadata": {},
   "source": [
    "## Exploración de Datos sobre la Población Mundial"
   ]
  },
  {
   "cell_type": "markdown",
   "metadata": {},
   "source": [
    "### 1. Importación de Librerías y Carga de Datos"
   ]
  },
  {
   "cell_type": "markdown",
   "metadata": {},
   "source": [
    "#### 1.1. Importación de Librerías"
   ]
  },
  {
   "cell_type": "code",
   "execution_count": 270,
   "metadata": {},
   "outputs": [],
   "source": [
    "import pandas as pd\n",
    "import numpy as np\n",
    "\n",
    "# Importamos librerias para visualización de datos\n",
    "import matplotlib.pyplot as plt\n",
    "import seaborn as sns\n",
    "\n",
    "# Configuramos las gráficas\n",
    "plt.style.use('seaborn-v0_8') \n",
    "\n",
    "# Configurar pandas para mostrar números completos sin notación científica\n",
    "pd.set_option('display.float_format', '{:.0f}'.format)\n"
   ]
  },
  {
   "cell_type": "markdown",
   "metadata": {},
   "source": [
    "#### 1.2. Carga del Dataset"
   ]
  },
  {
   "cell_type": "code",
   "execution_count": 271,
   "metadata": {},
   "outputs": [
    {
     "name": "stdout",
     "output_type": "stream",
     "text": [
      "El DataFrame tiene 266 filas y 64 columnas.\n"
     ]
    }
   ],
   "source": [
    "#  Cargar el archivo CSV en un DataFrame de Pandas\n",
    "df = pd.read_csv('data/world_population.csv')\n",
    "\n",
    "# Mostrar cuantas filas y columnas tiene el DataFrame\n",
    "print(f\"El DataFrame tiene {df.shape[0]} filas y {df.shape[1]} columnas.\")"
   ]
  },
  {
   "cell_type": "markdown",
   "metadata": {},
   "source": [
    "#### 1.3. Información del DataFrame"
   ]
  },
  {
   "cell_type": "code",
   "execution_count": 272,
   "metadata": {},
   "outputs": [
    {
     "name": "stdout",
     "output_type": "stream",
     "text": [
      "<class 'pandas.core.frame.DataFrame'>\n",
      "RangeIndex: 266 entries, 0 to 265\n",
      "Data columns (total 64 columns):\n",
      " #   Column        Non-Null Count  Dtype  \n",
      "---  ------        --------------  -----  \n",
      " 0   Country Name  266 non-null    object \n",
      " 1   1960          266 non-null    float64\n",
      " 2   1961          266 non-null    float64\n",
      " 3   1962          266 non-null    float64\n",
      " 4   1963          266 non-null    float64\n",
      " 5   1964          266 non-null    float64\n",
      " 6   1965          266 non-null    float64\n",
      " 7   1966          266 non-null    float64\n",
      " 8   1967          266 non-null    float64\n",
      " 9   1968          266 non-null    float64\n",
      " 10  1969          266 non-null    float64\n",
      " 11  1970          266 non-null    float64\n",
      " 12  1971          266 non-null    float64\n",
      " 13  1972          266 non-null    float64\n",
      " 14  1973          266 non-null    float64\n",
      " 15  1974          266 non-null    float64\n",
      " 16  1975          266 non-null    float64\n",
      " 17  1976          266 non-null    float64\n",
      " 18  1977          266 non-null    float64\n",
      " 19  1978          266 non-null    float64\n",
      " 20  1979          266 non-null    float64\n",
      " 21  1980          266 non-null    float64\n",
      " 22  1981          266 non-null    float64\n",
      " 23  1982          266 non-null    float64\n",
      " 24  1983          266 non-null    float64\n",
      " 25  1984          266 non-null    float64\n",
      " 26  1985          266 non-null    float64\n",
      " 27  1986          266 non-null    float64\n",
      " 28  1987          266 non-null    float64\n",
      " 29  1988          266 non-null    float64\n",
      " 30  1989          266 non-null    float64\n",
      " 31  1990          266 non-null    float64\n",
      " 32  1991          266 non-null    float64\n",
      " 33  1992          266 non-null    float64\n",
      " 34  1993          266 non-null    float64\n",
      " 35  1994          266 non-null    float64\n",
      " 36  1995          266 non-null    float64\n",
      " 37  1996          266 non-null    float64\n",
      " 38  1997          266 non-null    float64\n",
      " 39  1998          266 non-null    float64\n",
      " 40  1999          266 non-null    float64\n",
      " 41  2000          266 non-null    float64\n",
      " 42  2001          266 non-null    float64\n",
      " 43  2002          266 non-null    float64\n",
      " 44  2003          266 non-null    float64\n",
      " 45  2004          266 non-null    float64\n",
      " 46  2005          266 non-null    float64\n",
      " 47  2006          266 non-null    float64\n",
      " 48  2007          266 non-null    float64\n",
      " 49  2008          266 non-null    float64\n",
      " 50  2009          266 non-null    float64\n",
      " 51  2010          266 non-null    float64\n",
      " 52  2011          266 non-null    float64\n",
      " 53  2012          266 non-null    float64\n",
      " 54  2013          266 non-null    float64\n",
      " 55  2014          266 non-null    float64\n",
      " 56  2015          266 non-null    float64\n",
      " 57  2016          266 non-null    float64\n",
      " 58  2017          266 non-null    float64\n",
      " 59  2018          266 non-null    float64\n",
      " 60  2019          266 non-null    float64\n",
      " 61  2020          266 non-null    float64\n",
      " 62  2021          266 non-null    float64\n",
      " 63  2022          266 non-null    float64\n",
      "dtypes: float64(63), object(1)\n",
      "memory usage: 133.1+ KB\n"
     ]
    }
   ],
   "source": [
    "# Información sobre el dataframe\n",
    "df.info()"
   ]
  },
  {
   "cell_type": "markdown",
   "metadata": {},
   "source": [
    "#### 1.4. Visualización de las Primeras Filas del DataFrame"
   ]
  },
  {
   "cell_type": "code",
   "execution_count": 273,
   "metadata": {},
   "outputs": [
    {
     "data": {
      "text/html": [
       "<div>\n",
       "<style scoped>\n",
       "    .dataframe tbody tr th:only-of-type {\n",
       "        vertical-align: middle;\n",
       "    }\n",
       "\n",
       "    .dataframe tbody tr th {\n",
       "        vertical-align: top;\n",
       "    }\n",
       "\n",
       "    .dataframe thead th {\n",
       "        text-align: right;\n",
       "    }\n",
       "</style>\n",
       "<table border=\"1\" class=\"dataframe\">\n",
       "  <thead>\n",
       "    <tr style=\"text-align: right;\">\n",
       "      <th></th>\n",
       "      <th>Country Name</th>\n",
       "      <th>1960</th>\n",
       "      <th>1961</th>\n",
       "      <th>1962</th>\n",
       "      <th>1963</th>\n",
       "      <th>1964</th>\n",
       "      <th>1965</th>\n",
       "      <th>1966</th>\n",
       "      <th>1967</th>\n",
       "      <th>1968</th>\n",
       "      <th>...</th>\n",
       "      <th>2013</th>\n",
       "      <th>2014</th>\n",
       "      <th>2015</th>\n",
       "      <th>2016</th>\n",
       "      <th>2017</th>\n",
       "      <th>2018</th>\n",
       "      <th>2019</th>\n",
       "      <th>2020</th>\n",
       "      <th>2021</th>\n",
       "      <th>2022</th>\n",
       "    </tr>\n",
       "  </thead>\n",
       "  <tbody>\n",
       "    <tr>\n",
       "      <th>0</th>\n",
       "      <td>Aruba</td>\n",
       "      <td>54608</td>\n",
       "      <td>55811</td>\n",
       "      <td>56682</td>\n",
       "      <td>57475</td>\n",
       "      <td>58178</td>\n",
       "      <td>58782</td>\n",
       "      <td>59291</td>\n",
       "      <td>59522</td>\n",
       "      <td>59471</td>\n",
       "      <td>...</td>\n",
       "      <td>102880</td>\n",
       "      <td>103594</td>\n",
       "      <td>104257</td>\n",
       "      <td>104874</td>\n",
       "      <td>105439</td>\n",
       "      <td>105962</td>\n",
       "      <td>106442</td>\n",
       "      <td>106585</td>\n",
       "      <td>106537</td>\n",
       "      <td>106445</td>\n",
       "    </tr>\n",
       "    <tr>\n",
       "      <th>1</th>\n",
       "      <td>Africa Eastern and Southern</td>\n",
       "      <td>130692579</td>\n",
       "      <td>134169237</td>\n",
       "      <td>137835590</td>\n",
       "      <td>141630546</td>\n",
       "      <td>145605995</td>\n",
       "      <td>149742351</td>\n",
       "      <td>153955516</td>\n",
       "      <td>158313235</td>\n",
       "      <td>162875171</td>\n",
       "      <td>...</td>\n",
       "      <td>567892149</td>\n",
       "      <td>583651101</td>\n",
       "      <td>600008424</td>\n",
       "      <td>616377605</td>\n",
       "      <td>632746570</td>\n",
       "      <td>649757148</td>\n",
       "      <td>667242986</td>\n",
       "      <td>685112979</td>\n",
       "      <td>702977106</td>\n",
       "      <td>720859132</td>\n",
       "    </tr>\n",
       "    <tr>\n",
       "      <th>2</th>\n",
       "      <td>Afghanistan</td>\n",
       "      <td>8622466</td>\n",
       "      <td>8790140</td>\n",
       "      <td>8969047</td>\n",
       "      <td>9157465</td>\n",
       "      <td>9355514</td>\n",
       "      <td>9565147</td>\n",
       "      <td>9783147</td>\n",
       "      <td>10010030</td>\n",
       "      <td>10247780</td>\n",
       "      <td>...</td>\n",
       "      <td>31541209</td>\n",
       "      <td>32716210</td>\n",
       "      <td>33753499</td>\n",
       "      <td>34636207</td>\n",
       "      <td>35643418</td>\n",
       "      <td>36686784</td>\n",
       "      <td>37769499</td>\n",
       "      <td>38972230</td>\n",
       "      <td>40099462</td>\n",
       "      <td>41128771</td>\n",
       "    </tr>\n",
       "    <tr>\n",
       "      <th>3</th>\n",
       "      <td>Africa Western and Central</td>\n",
       "      <td>97256290</td>\n",
       "      <td>99314028</td>\n",
       "      <td>101445032</td>\n",
       "      <td>103667517</td>\n",
       "      <td>105959979</td>\n",
       "      <td>108336203</td>\n",
       "      <td>110798486</td>\n",
       "      <td>113319950</td>\n",
       "      <td>115921723</td>\n",
       "      <td>...</td>\n",
       "      <td>387204553</td>\n",
       "      <td>397855507</td>\n",
       "      <td>408690375</td>\n",
       "      <td>419778384</td>\n",
       "      <td>431138704</td>\n",
       "      <td>442646825</td>\n",
       "      <td>454306063</td>\n",
       "      <td>466189102</td>\n",
       "      <td>478185907</td>\n",
       "      <td>490330870</td>\n",
       "    </tr>\n",
       "    <tr>\n",
       "      <th>4</th>\n",
       "      <td>Angola</td>\n",
       "      <td>5357195</td>\n",
       "      <td>5441333</td>\n",
       "      <td>5521400</td>\n",
       "      <td>5599827</td>\n",
       "      <td>5673199</td>\n",
       "      <td>5736582</td>\n",
       "      <td>5787044</td>\n",
       "      <td>5827503</td>\n",
       "      <td>5868203</td>\n",
       "      <td>...</td>\n",
       "      <td>26147002</td>\n",
       "      <td>27128337</td>\n",
       "      <td>28127721</td>\n",
       "      <td>29154746</td>\n",
       "      <td>30208628</td>\n",
       "      <td>31273533</td>\n",
       "      <td>32353588</td>\n",
       "      <td>33428486</td>\n",
       "      <td>34503774</td>\n",
       "      <td>35588987</td>\n",
       "    </tr>\n",
       "  </tbody>\n",
       "</table>\n",
       "<p>5 rows × 64 columns</p>\n",
       "</div>"
      ],
      "text/plain": [
       "                  Country Name      1960      1961      1962      1963  \\\n",
       "0                        Aruba     54608     55811     56682     57475   \n",
       "1  Africa Eastern and Southern 130692579 134169237 137835590 141630546   \n",
       "2                  Afghanistan   8622466   8790140   8969047   9157465   \n",
       "3   Africa Western and Central  97256290  99314028 101445032 103667517   \n",
       "4                       Angola   5357195   5441333   5521400   5599827   \n",
       "\n",
       "       1964      1965      1966      1967      1968  ...      2013      2014  \\\n",
       "0     58178     58782     59291     59522     59471  ...    102880    103594   \n",
       "1 145605995 149742351 153955516 158313235 162875171  ... 567892149 583651101   \n",
       "2   9355514   9565147   9783147  10010030  10247780  ...  31541209  32716210   \n",
       "3 105959979 108336203 110798486 113319950 115921723  ... 387204553 397855507   \n",
       "4   5673199   5736582   5787044   5827503   5868203  ...  26147002  27128337   \n",
       "\n",
       "       2015      2016      2017      2018      2019      2020      2021  \\\n",
       "0    104257    104874    105439    105962    106442    106585    106537   \n",
       "1 600008424 616377605 632746570 649757148 667242986 685112979 702977106   \n",
       "2  33753499  34636207  35643418  36686784  37769499  38972230  40099462   \n",
       "3 408690375 419778384 431138704 442646825 454306063 466189102 478185907   \n",
       "4  28127721  29154746  30208628  31273533  32353588  33428486  34503774   \n",
       "\n",
       "       2022  \n",
       "0    106445  \n",
       "1 720859132  \n",
       "2  41128771  \n",
       "3 490330870  \n",
       "4  35588987  \n",
       "\n",
       "[5 rows x 64 columns]"
      ]
     },
     "execution_count": 273,
     "metadata": {},
     "output_type": "execute_result"
    }
   ],
   "source": [
    "# Mostrar las primeras filas del DataFrame para entender su estructura y contenido.\n",
    "df.head()"
   ]
  },
  {
   "cell_type": "markdown",
   "metadata": {},
   "source": [
    "#### 1.5. Cálculo de Estadísticas Descriptivas"
   ]
  },
  {
   "cell_type": "code",
   "execution_count": 274,
   "metadata": {},
   "outputs": [
    {
     "data": {
      "text/html": [
       "<div>\n",
       "<style scoped>\n",
       "    .dataframe tbody tr th:only-of-type {\n",
       "        vertical-align: middle;\n",
       "    }\n",
       "\n",
       "    .dataframe tbody tr th {\n",
       "        vertical-align: top;\n",
       "    }\n",
       "\n",
       "    .dataframe thead th {\n",
       "        text-align: right;\n",
       "    }\n",
       "</style>\n",
       "<table border=\"1\" class=\"dataframe\">\n",
       "  <thead>\n",
       "    <tr style=\"text-align: right;\">\n",
       "      <th></th>\n",
       "      <th>1960</th>\n",
       "      <th>1961</th>\n",
       "      <th>1962</th>\n",
       "      <th>1963</th>\n",
       "      <th>1964</th>\n",
       "      <th>1965</th>\n",
       "      <th>1966</th>\n",
       "      <th>1967</th>\n",
       "      <th>1968</th>\n",
       "      <th>1969</th>\n",
       "      <th>...</th>\n",
       "      <th>2013</th>\n",
       "      <th>2014</th>\n",
       "      <th>2015</th>\n",
       "      <th>2016</th>\n",
       "      <th>2017</th>\n",
       "      <th>2018</th>\n",
       "      <th>2019</th>\n",
       "      <th>2020</th>\n",
       "      <th>2021</th>\n",
       "      <th>2022</th>\n",
       "    </tr>\n",
       "  </thead>\n",
       "  <tbody>\n",
       "    <tr>\n",
       "      <th>count</th>\n",
       "      <td>266</td>\n",
       "      <td>266</td>\n",
       "      <td>266</td>\n",
       "      <td>266</td>\n",
       "      <td>266</td>\n",
       "      <td>266</td>\n",
       "      <td>266</td>\n",
       "      <td>266</td>\n",
       "      <td>266</td>\n",
       "      <td>266</td>\n",
       "      <td>...</td>\n",
       "      <td>266</td>\n",
       "      <td>266</td>\n",
       "      <td>266</td>\n",
       "      <td>266</td>\n",
       "      <td>266</td>\n",
       "      <td>266</td>\n",
       "      <td>266</td>\n",
       "      <td>266</td>\n",
       "      <td>266</td>\n",
       "      <td>266</td>\n",
       "    </tr>\n",
       "    <tr>\n",
       "      <th>mean</th>\n",
       "      <td>117286019</td>\n",
       "      <td>118895646</td>\n",
       "      <td>121066100</td>\n",
       "      <td>123748375</td>\n",
       "      <td>126453005</td>\n",
       "      <td>129196550</td>\n",
       "      <td>132055761</td>\n",
       "      <td>134913426</td>\n",
       "      <td>137851321</td>\n",
       "      <td>140894405</td>\n",
       "      <td>...</td>\n",
       "      <td>292772561</td>\n",
       "      <td>296648540</td>\n",
       "      <td>300494571</td>\n",
       "      <td>304339176</td>\n",
       "      <td>308189696</td>\n",
       "      <td>311976610</td>\n",
       "      <td>315682514</td>\n",
       "      <td>319271846</td>\n",
       "      <td>322533827</td>\n",
       "      <td>325484867</td>\n",
       "    </tr>\n",
       "    <tr>\n",
       "      <th>std</th>\n",
       "      <td>368152823</td>\n",
       "      <td>372681438</td>\n",
       "      <td>379372340</td>\n",
       "      <td>388037191</td>\n",
       "      <td>396744025</td>\n",
       "      <td>405581714</td>\n",
       "      <td>414881389</td>\n",
       "      <td>424138107</td>\n",
       "      <td>433681175</td>\n",
       "      <td>443614254</td>\n",
       "      <td>...</td>\n",
       "      <td>916887808</td>\n",
       "      <td>928254295</td>\n",
       "      <td>939473307</td>\n",
       "      <td>950623762</td>\n",
       "      <td>961782801</td>\n",
       "      <td>972646365</td>\n",
       "      <td>983178476</td>\n",
       "      <td>993241341</td>\n",
       "      <td>1002326777</td>\n",
       "      <td>1010249846</td>\n",
       "    </tr>\n",
       "    <tr>\n",
       "      <th>min</th>\n",
       "      <td>2646</td>\n",
       "      <td>2888</td>\n",
       "      <td>3171</td>\n",
       "      <td>3481</td>\n",
       "      <td>3811</td>\n",
       "      <td>4161</td>\n",
       "      <td>4531</td>\n",
       "      <td>4930</td>\n",
       "      <td>5354</td>\n",
       "      <td>5646</td>\n",
       "      <td>...</td>\n",
       "      <td>10694</td>\n",
       "      <td>10899</td>\n",
       "      <td>10877</td>\n",
       "      <td>10852</td>\n",
       "      <td>10828</td>\n",
       "      <td>10865</td>\n",
       "      <td>10956</td>\n",
       "      <td>11069</td>\n",
       "      <td>11204</td>\n",
       "      <td>11312</td>\n",
       "    </tr>\n",
       "    <tr>\n",
       "      <th>25%</th>\n",
       "      <td>519143</td>\n",
       "      <td>529913</td>\n",
       "      <td>541606</td>\n",
       "      <td>553932</td>\n",
       "      <td>566912</td>\n",
       "      <td>572641</td>\n",
       "      <td>571495</td>\n",
       "      <td>589353</td>\n",
       "      <td>595719</td>\n",
       "      <td>600115</td>\n",
       "      <td>...</td>\n",
       "      <td>1727844</td>\n",
       "      <td>1760674</td>\n",
       "      <td>1788377</td>\n",
       "      <td>1791806</td>\n",
       "      <td>1813209</td>\n",
       "      <td>1829052</td>\n",
       "      <td>1820114</td>\n",
       "      <td>1817712</td>\n",
       "      <td>1810651</td>\n",
       "      <td>1791334</td>\n",
       "    </tr>\n",
       "    <tr>\n",
       "      <th>50%</th>\n",
       "      <td>3850405</td>\n",
       "      <td>3950443</td>\n",
       "      <td>4049641</td>\n",
       "      <td>4167192</td>\n",
       "      <td>4281604</td>\n",
       "      <td>4325953</td>\n",
       "      <td>4382308</td>\n",
       "      <td>4441042</td>\n",
       "      <td>4498960</td>\n",
       "      <td>4569818</td>\n",
       "      <td>...</td>\n",
       "      <td>10153314</td>\n",
       "      <td>10341588</td>\n",
       "      <td>10381954</td>\n",
       "      <td>10426522</td>\n",
       "      <td>10447369</td>\n",
       "      <td>10427597</td>\n",
       "      <td>10559768</td>\n",
       "      <td>10652042</td>\n",
       "      <td>10537490</td>\n",
       "      <td>10579530</td>\n",
       "    </tr>\n",
       "    <tr>\n",
       "      <th>75%</th>\n",
       "      <td>27391860</td>\n",
       "      <td>28128218</td>\n",
       "      <td>28896491</td>\n",
       "      <td>29682392</td>\n",
       "      <td>30466278</td>\n",
       "      <td>31265970</td>\n",
       "      <td>31833066</td>\n",
       "      <td>32614314</td>\n",
       "      <td>33181755</td>\n",
       "      <td>33857230</td>\n",
       "      <td>...</td>\n",
       "      <td>63154692</td>\n",
       "      <td>63649008</td>\n",
       "      <td>64019810</td>\n",
       "      <td>64365569</td>\n",
       "      <td>64678322</td>\n",
       "      <td>64950698</td>\n",
       "      <td>65095390</td>\n",
       "      <td>65737055</td>\n",
       "      <td>66166802</td>\n",
       "      <td>66602983</td>\n",
       "    </tr>\n",
       "    <tr>\n",
       "      <th>max</th>\n",
       "      <td>3031474234</td>\n",
       "      <td>3072421801</td>\n",
       "      <td>3126849612</td>\n",
       "      <td>3193428894</td>\n",
       "      <td>3260441925</td>\n",
       "      <td>3328209022</td>\n",
       "      <td>3398480280</td>\n",
       "      <td>3468370526</td>\n",
       "      <td>3540164023</td>\n",
       "      <td>3614572835</td>\n",
       "      <td>...</td>\n",
       "      <td>7229303088</td>\n",
       "      <td>7317040295</td>\n",
       "      <td>7403850164</td>\n",
       "      <td>7490415449</td>\n",
       "      <td>7576441961</td>\n",
       "      <td>7660371127</td>\n",
       "      <td>7741774583</td>\n",
       "      <td>7820205606</td>\n",
       "      <td>7888305693</td>\n",
       "      <td>7950946801</td>\n",
       "    </tr>\n",
       "  </tbody>\n",
       "</table>\n",
       "<p>8 rows × 63 columns</p>\n",
       "</div>"
      ],
      "text/plain": [
       "            1960       1961       1962       1963       1964       1965  \\\n",
       "count        266        266        266        266        266        266   \n",
       "mean   117286019  118895646  121066100  123748375  126453005  129196550   \n",
       "std    368152823  372681438  379372340  388037191  396744025  405581714   \n",
       "min         2646       2888       3171       3481       3811       4161   \n",
       "25%       519143     529913     541606     553932     566912     572641   \n",
       "50%      3850405    3950443    4049641    4167192    4281604    4325953   \n",
       "75%     27391860   28128218   28896491   29682392   30466278   31265970   \n",
       "max   3031474234 3072421801 3126849612 3193428894 3260441925 3328209022   \n",
       "\n",
       "            1966       1967       1968       1969  ...       2013       2014  \\\n",
       "count        266        266        266        266  ...        266        266   \n",
       "mean   132055761  134913426  137851321  140894405  ...  292772561  296648540   \n",
       "std    414881389  424138107  433681175  443614254  ...  916887808  928254295   \n",
       "min         4531       4930       5354       5646  ...      10694      10899   \n",
       "25%       571495     589353     595719     600115  ...    1727844    1760674   \n",
       "50%      4382308    4441042    4498960    4569818  ...   10153314   10341588   \n",
       "75%     31833066   32614314   33181755   33857230  ...   63154692   63649008   \n",
       "max   3398480280 3468370526 3540164023 3614572835  ... 7229303088 7317040295   \n",
       "\n",
       "            2015       2016       2017       2018       2019       2020  \\\n",
       "count        266        266        266        266        266        266   \n",
       "mean   300494571  304339176  308189696  311976610  315682514  319271846   \n",
       "std    939473307  950623762  961782801  972646365  983178476  993241341   \n",
       "min        10877      10852      10828      10865      10956      11069   \n",
       "25%      1788377    1791806    1813209    1829052    1820114    1817712   \n",
       "50%     10381954   10426522   10447369   10427597   10559768   10652042   \n",
       "75%     64019810   64365569   64678322   64950698   65095390   65737055   \n",
       "max   7403850164 7490415449 7576441961 7660371127 7741774583 7820205606   \n",
       "\n",
       "            2021       2022  \n",
       "count        266        266  \n",
       "mean   322533827  325484867  \n",
       "std   1002326777 1010249846  \n",
       "min        11204      11312  \n",
       "25%      1810651    1791334  \n",
       "50%     10537490   10579530  \n",
       "75%     66166802   66602983  \n",
       "max   7888305693 7950946801  \n",
       "\n",
       "[8 rows x 63 columns]"
      ]
     },
     "execution_count": 274,
     "metadata": {},
     "output_type": "execute_result"
    }
   ],
   "source": [
    "# Calcular estadísticas descriptivas del DataFrame \n",
    "df.describe()"
   ]
  },
  {
   "cell_type": "markdown",
   "metadata": {},
   "source": [
    "<smail>*Nota: Los datos pueden parecer exagerados, pero hay que tener \n",
    "en cuenta que también hay agrupaciones regionales, \n",
    "continentales e incluso la mundial en la lista*</smail>"
   ]
  },
  {
   "cell_type": "markdown",
   "metadata": {},
   "source": [
    "## 2. Procesamiento y Transformación de Datos\n",
    "\n"
   ]
  },
  {
   "cell_type": "markdown",
   "metadata": {},
   "source": [
    "#### 2.1. Conversión a Formato Largo"
   ]
  },
  {
   "cell_type": "code",
   "execution_count": 275,
   "metadata": {},
   "outputs": [
    {
     "name": "stdout",
     "output_type": "stream",
     "text": [
      "Primeras filas del DataFrame transformado:\n"
     ]
    },
    {
     "data": {
      "text/html": [
       "<div>\n",
       "<style scoped>\n",
       "    .dataframe tbody tr th:only-of-type {\n",
       "        vertical-align: middle;\n",
       "    }\n",
       "\n",
       "    .dataframe tbody tr th {\n",
       "        vertical-align: top;\n",
       "    }\n",
       "\n",
       "    .dataframe thead th {\n",
       "        text-align: right;\n",
       "    }\n",
       "</style>\n",
       "<table border=\"1\" class=\"dataframe\">\n",
       "  <thead>\n",
       "    <tr style=\"text-align: right;\">\n",
       "      <th></th>\n",
       "      <th>Country Name</th>\n",
       "      <th>Year</th>\n",
       "      <th>Population</th>\n",
       "    </tr>\n",
       "  </thead>\n",
       "  <tbody>\n",
       "    <tr>\n",
       "      <th>0</th>\n",
       "      <td>Aruba</td>\n",
       "      <td>1960</td>\n",
       "      <td>54608</td>\n",
       "    </tr>\n",
       "    <tr>\n",
       "      <th>1</th>\n",
       "      <td>Africa Eastern and Southern</td>\n",
       "      <td>1960</td>\n",
       "      <td>130692579</td>\n",
       "    </tr>\n",
       "    <tr>\n",
       "      <th>2</th>\n",
       "      <td>Afghanistan</td>\n",
       "      <td>1960</td>\n",
       "      <td>8622466</td>\n",
       "    </tr>\n",
       "    <tr>\n",
       "      <th>3</th>\n",
       "      <td>Africa Western and Central</td>\n",
       "      <td>1960</td>\n",
       "      <td>97256290</td>\n",
       "    </tr>\n",
       "    <tr>\n",
       "      <th>4</th>\n",
       "      <td>Angola</td>\n",
       "      <td>1960</td>\n",
       "      <td>5357195</td>\n",
       "    </tr>\n",
       "    <tr>\n",
       "      <th>5</th>\n",
       "      <td>Albania</td>\n",
       "      <td>1960</td>\n",
       "      <td>1608800</td>\n",
       "    </tr>\n",
       "    <tr>\n",
       "      <th>6</th>\n",
       "      <td>Andorra</td>\n",
       "      <td>1960</td>\n",
       "      <td>9443</td>\n",
       "    </tr>\n",
       "    <tr>\n",
       "      <th>7</th>\n",
       "      <td>Arab World</td>\n",
       "      <td>1960</td>\n",
       "      <td>93359407</td>\n",
       "    </tr>\n",
       "    <tr>\n",
       "      <th>8</th>\n",
       "      <td>United Arab Emirates</td>\n",
       "      <td>1960</td>\n",
       "      <td>133426</td>\n",
       "    </tr>\n",
       "    <tr>\n",
       "      <th>9</th>\n",
       "      <td>Argentina</td>\n",
       "      <td>1960</td>\n",
       "      <td>20349744</td>\n",
       "    </tr>\n",
       "  </tbody>\n",
       "</table>\n",
       "</div>"
      ],
      "text/plain": [
       "                  Country Name  Year  Population\n",
       "0                        Aruba  1960       54608\n",
       "1  Africa Eastern and Southern  1960   130692579\n",
       "2                  Afghanistan  1960     8622466\n",
       "3   Africa Western and Central  1960    97256290\n",
       "4                       Angola  1960     5357195\n",
       "5                      Albania  1960     1608800\n",
       "6                      Andorra  1960        9443\n",
       "7                   Arab World  1960    93359407\n",
       "8         United Arab Emirates  1960      133426\n",
       "9                    Argentina  1960    20349744"
      ]
     },
     "execution_count": 275,
     "metadata": {},
     "output_type": "execute_result"
    }
   ],
   "source": [
    "df_long = pd.melt(\n",
    "  df,\n",
    "  id_vars=['Country Name'], \n",
    "  var_name='Year',\n",
    "  value_name='Population'\n",
    ")\n",
    "\n",
    "# Mostrar las primeras filas para verificar la transformación inicial\n",
    "print(\"Primeras filas del DataFrame transformado:\")\n",
    "df_long.head(10)"
   ]
  },
  {
   "cell_type": "markdown",
   "metadata": {},
   "source": [
    "#### 2.2. Conversión del Tipo de Datos "
   ]
  },
  {
   "cell_type": "code",
   "execution_count": 276,
   "metadata": {},
   "outputs": [
    {
     "name": "stdout",
     "output_type": "stream",
     "text": [
      "Tiipo de dato actual de la columna Year: object\n",
      "Nuevo tipo de dato de la columna Year: int64\n"
     ]
    },
    {
     "data": {
      "text/html": [
       "<div>\n",
       "<style scoped>\n",
       "    .dataframe tbody tr th:only-of-type {\n",
       "        vertical-align: middle;\n",
       "    }\n",
       "\n",
       "    .dataframe tbody tr th {\n",
       "        vertical-align: top;\n",
       "    }\n",
       "\n",
       "    .dataframe thead th {\n",
       "        text-align: right;\n",
       "    }\n",
       "</style>\n",
       "<table border=\"1\" class=\"dataframe\">\n",
       "  <thead>\n",
       "    <tr style=\"text-align: right;\">\n",
       "      <th></th>\n",
       "      <th>Country Name</th>\n",
       "      <th>Year</th>\n",
       "      <th>Population</th>\n",
       "    </tr>\n",
       "  </thead>\n",
       "  <tbody>\n",
       "    <tr>\n",
       "      <th>0</th>\n",
       "      <td>Aruba</td>\n",
       "      <td>1960</td>\n",
       "      <td>54608</td>\n",
       "    </tr>\n",
       "    <tr>\n",
       "      <th>1</th>\n",
       "      <td>Africa Eastern and Southern</td>\n",
       "      <td>1960</td>\n",
       "      <td>130692579</td>\n",
       "    </tr>\n",
       "    <tr>\n",
       "      <th>2</th>\n",
       "      <td>Afghanistan</td>\n",
       "      <td>1960</td>\n",
       "      <td>8622466</td>\n",
       "    </tr>\n",
       "    <tr>\n",
       "      <th>3</th>\n",
       "      <td>Africa Western and Central</td>\n",
       "      <td>1960</td>\n",
       "      <td>97256290</td>\n",
       "    </tr>\n",
       "    <tr>\n",
       "      <th>4</th>\n",
       "      <td>Angola</td>\n",
       "      <td>1960</td>\n",
       "      <td>5357195</td>\n",
       "    </tr>\n",
       "  </tbody>\n",
       "</table>\n",
       "</div>"
      ],
      "text/plain": [
       "                  Country Name  Year  Population\n",
       "0                        Aruba  1960       54608\n",
       "1  Africa Eastern and Southern  1960   130692579\n",
       "2                  Afghanistan  1960     8622466\n",
       "3   Africa Western and Central  1960    97256290\n",
       "4                       Angola  1960     5357195"
      ]
     },
     "execution_count": 276,
     "metadata": {},
     "output_type": "execute_result"
    }
   ],
   "source": [
    "# Verificar el tipo de dato actual de la columna 'Year'\n",
    "print(f\"Tiipo de dato actual de la columna Year: {df_long['Year'].dtype}\")\n",
    "\n",
    "# Convertir el año a tipo numérico\n",
    "df_long['Year'] = pd.to_numeric(df_long['Year'])\n",
    "\n",
    "# Verificar que la conversión fue exitosa\n",
    "print(f\"Nuevo tipo de dato de la columna Year: {df_long['Year'].dtype}\")\n",
    "\n",
    "# Mostrar algunos datos para confirmar\n",
    "df_long.head(5)"
   ]
  },
  {
   "cell_type": "markdown",
   "metadata": {},
   "source": [
    "#### 2.3. Inspección del Nuevo DataFrame"
   ]
  },
  {
   "cell_type": "code",
   "execution_count": 277,
   "metadata": {},
   "outputs": [
    {
     "name": "stdout",
     "output_type": "stream",
     "text": [
      "Dimensiones del dataframe largo: (16758, 3)\n",
      "\n",
      "Información detallada:\n",
      "<class 'pandas.core.frame.DataFrame'>\n",
      "RangeIndex: 16758 entries, 0 to 16757\n",
      "Data columns (total 3 columns):\n",
      " #   Column        Non-Null Count  Dtype  \n",
      "---  ------        --------------  -----  \n",
      " 0   Country Name  16758 non-null  object \n",
      " 1   Year          16758 non-null  int64  \n",
      " 2   Population    16758 non-null  float64\n",
      "dtypes: float64(1), int64(1), object(1)\n",
      "memory usage: 392.9+ KB\n",
      "\n",
      "Estadísticas descriptivas:\n"
     ]
    },
    {
     "data": {
      "text/html": [
       "<div>\n",
       "<style scoped>\n",
       "    .dataframe tbody tr th:only-of-type {\n",
       "        vertical-align: middle;\n",
       "    }\n",
       "\n",
       "    .dataframe tbody tr th {\n",
       "        vertical-align: top;\n",
       "    }\n",
       "\n",
       "    .dataframe thead th {\n",
       "        text-align: right;\n",
       "    }\n",
       "</style>\n",
       "<table border=\"1\" class=\"dataframe\">\n",
       "  <thead>\n",
       "    <tr style=\"text-align: right;\">\n",
       "      <th></th>\n",
       "      <th>Year</th>\n",
       "      <th>Population</th>\n",
       "    </tr>\n",
       "  </thead>\n",
       "  <tbody>\n",
       "    <tr>\n",
       "      <th>count</th>\n",
       "      <td>16758</td>\n",
       "      <td>16758</td>\n",
       "    </tr>\n",
       "    <tr>\n",
       "      <th>mean</th>\n",
       "      <td>1991</td>\n",
       "      <td>215871254</td>\n",
       "    </tr>\n",
       "    <tr>\n",
       "      <th>std</th>\n",
       "      <td>18</td>\n",
       "      <td>708307048</td>\n",
       "    </tr>\n",
       "    <tr>\n",
       "      <th>min</th>\n",
       "      <td>1960</td>\n",
       "      <td>2646</td>\n",
       "    </tr>\n",
       "    <tr>\n",
       "      <th>25%</th>\n",
       "      <td>1975</td>\n",
       "      <td>1020896</td>\n",
       "    </tr>\n",
       "    <tr>\n",
       "      <th>50%</th>\n",
       "      <td>1991</td>\n",
       "      <td>6916910</td>\n",
       "    </tr>\n",
       "    <tr>\n",
       "      <th>75%</th>\n",
       "      <td>2007</td>\n",
       "      <td>48339140</td>\n",
       "    </tr>\n",
       "    <tr>\n",
       "      <th>max</th>\n",
       "      <td>2022</td>\n",
       "      <td>7950946801</td>\n",
       "    </tr>\n",
       "  </tbody>\n",
       "</table>\n",
       "</div>"
      ],
      "text/plain": [
       "       Year  Population\n",
       "count 16758       16758\n",
       "mean   1991   215871254\n",
       "std      18   708307048\n",
       "min    1960        2646\n",
       "25%    1975     1020896\n",
       "50%    1991     6916910\n",
       "75%    2007    48339140\n",
       "max    2022  7950946801"
      ]
     },
     "execution_count": 277,
     "metadata": {},
     "output_type": "execute_result"
    }
   ],
   "source": [
    "# Información básica del nuevo dataframe en formato largo\n",
    "print(f\"Dimensiones del dataframe largo: {df_long.shape}\")\n",
    "print(\"\\nInformación detallada:\")\n",
    "df_long.info()\n",
    "\n",
    "# Estadísticas descriptivas del nuevo formato\n",
    "print(\"\\nEstadísticas descriptivas:\")\n",
    "df_long.describe()"
   ]
  },
  {
   "cell_type": "markdown",
   "metadata": {},
   "source": [
    "#### 2.4. Reorganización de Datos por País y Año"
   ]
  },
  {
   "cell_type": "code",
   "execution_count": 278,
   "metadata": {},
   "outputs": [
    {
     "data": {
      "text/html": [
       "<div>\n",
       "<style scoped>\n",
       "    .dataframe tbody tr th:only-of-type {\n",
       "        vertical-align: middle;\n",
       "    }\n",
       "\n",
       "    .dataframe tbody tr th {\n",
       "        vertical-align: top;\n",
       "    }\n",
       "\n",
       "    .dataframe thead th {\n",
       "        text-align: right;\n",
       "    }\n",
       "</style>\n",
       "<table border=\"1\" class=\"dataframe\">\n",
       "  <thead>\n",
       "    <tr style=\"text-align: right;\">\n",
       "      <th></th>\n",
       "      <th>Country Name</th>\n",
       "      <th>Year</th>\n",
       "      <th>Population</th>\n",
       "    </tr>\n",
       "  </thead>\n",
       "  <tbody>\n",
       "    <tr>\n",
       "      <th>0</th>\n",
       "      <td>Afghanistan</td>\n",
       "      <td>1960</td>\n",
       "      <td>8622466</td>\n",
       "    </tr>\n",
       "    <tr>\n",
       "      <th>1</th>\n",
       "      <td>Afghanistan</td>\n",
       "      <td>1961</td>\n",
       "      <td>8790140</td>\n",
       "    </tr>\n",
       "    <tr>\n",
       "      <th>2</th>\n",
       "      <td>Afghanistan</td>\n",
       "      <td>1962</td>\n",
       "      <td>8969047</td>\n",
       "    </tr>\n",
       "    <tr>\n",
       "      <th>3</th>\n",
       "      <td>Afghanistan</td>\n",
       "      <td>1963</td>\n",
       "      <td>9157465</td>\n",
       "    </tr>\n",
       "    <tr>\n",
       "      <th>4</th>\n",
       "      <td>Afghanistan</td>\n",
       "      <td>1964</td>\n",
       "      <td>9355514</td>\n",
       "    </tr>\n",
       "    <tr>\n",
       "      <th>5</th>\n",
       "      <td>Afghanistan</td>\n",
       "      <td>1965</td>\n",
       "      <td>9565147</td>\n",
       "    </tr>\n",
       "    <tr>\n",
       "      <th>6</th>\n",
       "      <td>Afghanistan</td>\n",
       "      <td>1966</td>\n",
       "      <td>9783147</td>\n",
       "    </tr>\n",
       "    <tr>\n",
       "      <th>7</th>\n",
       "      <td>Afghanistan</td>\n",
       "      <td>1967</td>\n",
       "      <td>10010030</td>\n",
       "    </tr>\n",
       "    <tr>\n",
       "      <th>8</th>\n",
       "      <td>Afghanistan</td>\n",
       "      <td>1968</td>\n",
       "      <td>10247780</td>\n",
       "    </tr>\n",
       "    <tr>\n",
       "      <th>9</th>\n",
       "      <td>Afghanistan</td>\n",
       "      <td>1969</td>\n",
       "      <td>10494489</td>\n",
       "    </tr>\n",
       "    <tr>\n",
       "      <th>10</th>\n",
       "      <td>Afghanistan</td>\n",
       "      <td>1970</td>\n",
       "      <td>10752971</td>\n",
       "    </tr>\n",
       "    <tr>\n",
       "      <th>11</th>\n",
       "      <td>Afghanistan</td>\n",
       "      <td>1971</td>\n",
       "      <td>11015857</td>\n",
       "    </tr>\n",
       "    <tr>\n",
       "      <th>12</th>\n",
       "      <td>Afghanistan</td>\n",
       "      <td>1972</td>\n",
       "      <td>11286753</td>\n",
       "    </tr>\n",
       "    <tr>\n",
       "      <th>13</th>\n",
       "      <td>Afghanistan</td>\n",
       "      <td>1973</td>\n",
       "      <td>11575305</td>\n",
       "    </tr>\n",
       "    <tr>\n",
       "      <th>14</th>\n",
       "      <td>Afghanistan</td>\n",
       "      <td>1974</td>\n",
       "      <td>11869879</td>\n",
       "    </tr>\n",
       "  </tbody>\n",
       "</table>\n",
       "</div>"
      ],
      "text/plain": [
       "   Country Name  Year  Population\n",
       "0   Afghanistan  1960     8622466\n",
       "1   Afghanistan  1961     8790140\n",
       "2   Afghanistan  1962     8969047\n",
       "3   Afghanistan  1963     9157465\n",
       "4   Afghanistan  1964     9355514\n",
       "5   Afghanistan  1965     9565147\n",
       "6   Afghanistan  1966     9783147\n",
       "7   Afghanistan  1967    10010030\n",
       "8   Afghanistan  1968    10247780\n",
       "9   Afghanistan  1969    10494489\n",
       "10  Afghanistan  1970    10752971\n",
       "11  Afghanistan  1971    11015857\n",
       "12  Afghanistan  1972    11286753\n",
       "13  Afghanistan  1973    11575305\n",
       "14  Afghanistan  1974    11869879"
      ]
     },
     "execution_count": 278,
     "metadata": {},
     "output_type": "execute_result"
    }
   ],
   "source": [
    "# Ordenar el dataframe primero por país y luego por año\n",
    "df_long = df_long.sort_values(by=['Country Name', 'Year'])\n",
    "\n",
    "# Resetear los índices para que sean consecutivos\n",
    "df_long = df_long.reset_index(drop=True)\n",
    "\n",
    "# Mostrar las primeras 15 filas para verificar la nueva organización\n",
    "df_long.head(15)"
   ]
  },
  {
   "cell_type": "markdown",
   "metadata": {},
   "source": [
    "#### 2.5. Identificación de Países y Agrupaciones Geográficas"
   ]
  },
  {
   "cell_type": "code",
   "execution_count": 279,
   "metadata": {},
   "outputs": [
    {
     "name": "stdout",
     "output_type": "stream",
     "text": [
      "['Afghanistan' 'Africa Eastern and Southern' 'Africa Western and Central'\n",
      " 'Albania' 'Algeria' 'American Samoa' 'Andorra' 'Angola'\n",
      " 'Antigua and Barbuda' 'Arab World' 'Argentina' 'Armenia' 'Aruba'\n",
      " 'Australia' 'Austria' 'Azerbaijan' 'Bahamas, The' 'Bahrain' 'Bangladesh'\n",
      " 'Barbados' 'Belarus' 'Belgium' 'Belize' 'Benin' 'Bermuda' 'Bhutan'\n",
      " 'Bolivia' 'Bosnia and Herzegovina' 'Botswana' 'Brazil'\n",
      " 'British Virgin Islands' 'Brunei Darussalam' 'Bulgaria' 'Burkina Faso'\n",
      " 'Burundi' 'Cabo Verde' 'Cambodia' 'Cameroon' 'Canada'\n",
      " 'Caribbean small states' 'Cayman Islands' 'Central African Republic'\n",
      " 'Central Europe and the Baltics' 'Chad' 'Channel Islands' 'Chile' 'China'\n",
      " 'Colombia' 'Comoros' 'Congo, Dem. Rep.' 'Congo, Rep.' 'Costa Rica'\n",
      " \"Cote d'Ivoire\" 'Croatia' 'Cuba' 'Curacao' 'Cyprus' 'Czechia' 'Denmark'\n",
      " 'Djibouti' 'Dominica' 'Dominican Republic' 'Early-demographic dividend'\n",
      " 'East Asia & Pacific' 'East Asia & Pacific (IDA & IBRD countries)'\n",
      " 'East Asia & Pacific (excluding high income)' 'Ecuador'\n",
      " 'Egypt, Arab Rep.' 'El Salvador' 'Equatorial Guinea' 'Eritrea' 'Estonia'\n",
      " 'Eswatini' 'Ethiopia' 'Euro area' 'Europe & Central Asia'\n",
      " 'Europe & Central Asia (IDA & IBRD countries)'\n",
      " 'Europe & Central Asia (excluding high income)' 'European Union'\n",
      " 'Faroe Islands' 'Fiji' 'Finland'\n",
      " 'Fragile and conflict affected situations' 'France' 'French Polynesia'\n",
      " 'Gabon' 'Gambia, The' 'Georgia' 'Germany' 'Ghana' 'Gibraltar' 'Greece'\n",
      " 'Greenland' 'Grenada' 'Guam' 'Guatemala' 'Guinea' 'Guinea-Bissau'\n",
      " 'Guyana' 'Haiti' 'Heavily indebted poor countries (HIPC)' 'High income'\n",
      " 'Honduras' 'Hong Kong SAR, China' 'Hungary' 'IBRD only'\n",
      " 'IDA & IBRD total' 'IDA blend' 'IDA only' 'IDA total' 'Iceland' 'India'\n",
      " 'Indonesia' 'Iran, Islamic Rep.' 'Iraq' 'Ireland' 'Isle of Man' 'Israel'\n",
      " 'Italy' 'Jamaica' 'Japan' 'Jordan' 'Kazakhstan' 'Kenya' 'Kiribati'\n",
      " \"Korea, Dem. People's Rep.\" 'Korea, Rep.' 'Kosovo' 'Kuwait'\n",
      " 'Kyrgyz Republic' 'Lao PDR' 'Late-demographic dividend'\n",
      " 'Latin America & Caribbean'\n",
      " 'Latin America & Caribbean (excluding high income)'\n",
      " 'Latin America & the Caribbean (IDA & IBRD countries)' 'Latvia'\n",
      " 'Least developed countries: UN classification' 'Lebanon' 'Lesotho'\n",
      " 'Liberia' 'Libya' 'Liechtenstein' 'Lithuania' 'Low & middle income'\n",
      " 'Low income' 'Lower middle income' 'Luxembourg' 'Macao SAR, China'\n",
      " 'Madagascar' 'Malawi' 'Malaysia' 'Maldives' 'Mali' 'Malta'\n",
      " 'Marshall Islands' 'Mauritania' 'Mauritius' 'Mexico'\n",
      " 'Micronesia, Fed. Sts.' 'Middle East & North Africa'\n",
      " 'Middle East & North Africa (IDA & IBRD countries)'\n",
      " 'Middle East & North Africa (excluding high income)' 'Middle income'\n",
      " 'Moldova' 'Monaco' 'Mongolia' 'Montenegro' 'Morocco' 'Mozambique'\n",
      " 'Myanmar' 'Namibia' 'Nauru' 'Nepal' 'Netherlands' 'New Caledonia'\n",
      " 'New Zealand' 'Nicaragua' 'Niger' 'Nigeria' 'North America'\n",
      " 'North Macedonia' 'Northern Mariana Islands' 'Norway' 'Not classified'\n",
      " 'OECD members' 'Oman' 'Other small states' 'Pacific island small states'\n",
      " 'Pakistan' 'Palau' 'Panama' 'Papua New Guinea' 'Paraguay' 'Peru'\n",
      " 'Philippines' 'Poland' 'Portugal' 'Post-demographic dividend'\n",
      " 'Pre-demographic dividend' 'Puerto Rico' 'Qatar' 'Romania'\n",
      " 'Russian Federation' 'Rwanda' 'Samoa' 'San Marino'\n",
      " 'Sao Tome and Principe' 'Saudi Arabia' 'Senegal' 'Serbia' 'Seychelles'\n",
      " 'Sierra Leone' 'Singapore' 'Sint Maarten (Dutch part)' 'Slovak Republic'\n",
      " 'Slovenia' 'Small states' 'Solomon Islands' 'Somalia' 'South Africa'\n",
      " 'South Asia' 'South Asia (IDA & IBRD)' 'South Sudan' 'Spain' 'Sri Lanka'\n",
      " 'St. Kitts and Nevis' 'St. Lucia' 'St. Martin (French part)'\n",
      " 'St. Vincent and the Grenadines' 'Sub-Saharan Africa'\n",
      " 'Sub-Saharan Africa (IDA & IBRD countries)'\n",
      " 'Sub-Saharan Africa (excluding high income)' 'Sudan' 'Suriname' 'Sweden'\n",
      " 'Switzerland' 'Syrian Arab Republic' 'Tajikistan' 'Tanzania' 'Thailand'\n",
      " 'Timor-Leste' 'Togo' 'Tonga' 'Trinidad and Tobago' 'Tunisia' 'Turkiye'\n",
      " 'Turkmenistan' 'Turks and Caicos Islands' 'Tuvalu' 'Uganda' 'Ukraine'\n",
      " 'United Arab Emirates' 'United Kingdom' 'United States'\n",
      " 'Upper middle income' 'Uruguay' 'Uzbekistan' 'Vanuatu' 'Venezuela, RB'\n",
      " 'Viet Nam' 'Virgin Islands (U.S.)' 'West Bank and Gaza' 'World'\n",
      " 'Yemen, Rep.' 'Zambia' 'Zimbabwe']\n"
     ]
    }
   ],
   "source": [
    "print(df_long['Country Name'].unique()[:280])"
   ]
  },
  {
   "cell_type": "markdown",
   "metadata": {},
   "source": [
    "### 3. Evolución de la Población Mundial "
   ]
  },
  {
   "cell_type": "markdown",
   "metadata": {},
   "source": [
    "#### 3.1. Extracción de Datos Globales"
   ]
  },
  {
   "cell_type": "code",
   "execution_count": 280,
   "metadata": {},
   "outputs": [
    {
     "name": "stdout",
     "output_type": "stream",
     "text": [
      "      Country Name  Year  Population\n",
      "16506        World  1960  3031474234\n",
      "16507        World  1961  3072421801\n",
      "16508        World  1962  3126849612\n",
      "16509        World  1963  3193428894\n",
      "16510        World  1964  3260441925\n"
     ]
    }
   ],
   "source": [
    "datos_mundo = df_long[df_long['Country Name'] == 'World']\n",
    "\n",
    "# Verificar que tenemos los datos correctos\n",
    "print(datos_mundo.head())"
   ]
  },
  {
   "cell_type": "markdown",
   "metadata": {},
   "source": [
    "#### 3.2. Gráfico de Evolución de la Población (1960-2022)"
   ]
  },
  {
   "cell_type": "code",
   "execution_count": 281,
   "metadata": {},
   "outputs": [
    {
     "data": {
      "image/png": "[encoded data removed]",
      "text/plain": [
       "<Figure size 1000x600 with 1 Axes>"
      ]
     },
     "metadata": {},
     "output_type": "display_data"
    }
   ],
   "source": [
    "# Crear un gráfico con mejor formato para números grandes\n",
    "plt.figure(figsize=(10, 6))\n",
    "\n",
    "# Convertir la población a miles de millones para que sea más legible\n",
    "poblacion_en_miles_de_millones = datos_mundo['Population'] / 1000000000\n",
    "\n",
    "# Dibujar la línea con los datos convertidos\n",
    "plt.plot(datos_mundo['Year'], poblacion_en_miles_de_millones, 'b-', linewidth=2.5)\n",
    "# Añadir un título\n",
    "plt.title('Evolución de la Población Mundial (1960-2022)')\n",
    "\n",
    "# Etiquetar los ejes (ahora el eje Y indica la unidad)\n",
    "plt.xlabel('Año')\n",
    "plt.ylabel('Población (miles de millones)')\n",
    "\n",
    "# Añadir una cuadrícula para facilitar la lectura\n",
    "plt.grid(True)\n",
    "\n",
    "# Mostrar el gráfico\n",
    "plt.show()"
   ]
  },
  {
   "cell_type": "markdown",
   "metadata": {},
   "source": [
    "<small>*Este gráfico muestra el crecimiento sostenido de la población mundial durante las últimas seis décadas. Desde aproximadamente 3 mil millones de habitantes en 1960, la población ha aumentado a casi 8 mil millones en 2022, multiplicándose por 2.6 en este período. La curva refleja un crecimiento exponencial que comenzó a acelerarse en la década de 1960 con la llamada \"explosión demográfica\", impulsada por mejoras en la medicina, nutrición y condiciones sanitarias que redujeron significativamente las tasas de mortalidad, especialmente infantil.*</small>"
   ]
  },
  {
   "cell_type": "markdown",
   "metadata": {},
   "source": [
    "### 4. Casos de Estudio Demográficos"
   ]
  },
  {
   "cell_type": "markdown",
   "metadata": {},
   "source": [
    "#### 4.1. Crisis Demográfica Post-Soviética: El Caso de Rusia"
   ]
  },
  {
   "cell_type": "markdown",
   "metadata": {},
   "source": [
    "##### 4.1.1. Extracción de Datos de Rusia (1985-2005) "
   ]
  },
  {
   "cell_type": "code",
   "execution_count": 282,
   "metadata": {},
   "outputs": [
    {
     "name": "stdout",
     "output_type": "stream",
     "text": [
      "Datos de Rusia para el periodo 1985-2005:\n",
      "             Country Name  Year  Population\n",
      "12751  Russian Federation  1985   143858000\n",
      "12752  Russian Federation  1986   144894000\n",
      "12753  Russian Federation  1987   145908000\n",
      "12754  Russian Federation  1988   146857000\n",
      "12755  Russian Federation  1989   147721000\n",
      "12756  Russian Federation  1990   147969407\n",
      "12757  Russian Federation  1991   148394216\n",
      "12758  Russian Federation  1992   148538197\n",
      "12759  Russian Federation  1993   148458777\n",
      "12760  Russian Federation  1994   148407912\n",
      "12761  Russian Federation  1995   148375787\n",
      "12762  Russian Federation  1996   148160129\n",
      "12763  Russian Federation  1997   147915361\n",
      "12764  Russian Federation  1998   147670784\n",
      "12765  Russian Federation  1999   147214776\n",
      "12766  Russian Federation  2000   146596869\n",
      "12767  Russian Federation  2001   145976482\n",
      "12768  Russian Federation  2002   145306497\n",
      "12769  Russian Federation  2003   144648618\n",
      "12770  Russian Federation  2004   144067316\n",
      "12771  Russian Federation  2005   143518814\n"
     ]
    }
   ],
   "source": [
    "rusia = df_long[df_long['Country Name'] == 'Russian Federation']\n",
    "\n",
    "# Filtrar el período de interés (1985-2005)\n",
    "rusia_periodo = rusia[(rusia['Year'] >= 1985) & (rusia['Year'] <= 2005)].copy()\n",
    "\n",
    "# Verificar que tenemos el periodo correcto\n",
    "print(\"Datos de Rusia para el periodo 1985-2005:\")\n",
    "print(rusia_periodo.head(21))"
   ]
  },
  {
   "cell_type": "markdown",
   "metadata": {},
   "source": [
    "##### 4.1.2. Gráfico de Evolución Poblacional "
   ]
  },
  {
   "cell_type": "code",
   "execution_count": 283,
   "metadata": {},
   "outputs": [
    {
     "data": {
      "image/png": "[encoded data removed]",
      "text/plain": [
       "<Figure size 1000x600 with 1 Axes>"
      ]
     },
     "metadata": {},
     "output_type": "display_data"
    }
   ],
   "source": [
    "# Crear la figura para el gráfico\n",
    "plt.figure(figsize=(10, 6))\n",
    "\n",
    "# Dibujar la línea de población para Rusia (convertida a millones)\n",
    "plt.plot(rusia_periodo['Year'], rusia_periodo['Population']/1000000, \n",
    "         'b-', linewidth=2.5, label='Población de Rusia')\n",
    "\n",
    "# Añadir línea vertical para marcar la disolución de la URSS\n",
    "plt.axvline(x=1991, color='r', linestyle='--', alpha=0.7, \n",
    "            label='Disolución de la URSS (1991)')\n",
    "\n",
    "# Personalizar el gráfico\n",
    "plt.title('Población de Rusia (1985-2005)', fontsize=15)\n",
    "plt.xlabel('Año', fontsize=12)\n",
    "plt.ylabel('Población (millones)', fontsize=12)\n",
    "plt.grid(True, alpha=0.3)\n",
    "plt.legend(fontsize=10)\n",
    "\n",
    "# Límites del eje Y\n",
    "plt.ylim(143, 149)  \n",
    "\n",
    "# Configurar el eje X para mostrar solo años enteros\n",
    "años = list(range(1985, 2006))\n",
    "plt.xticks(años, [str(año) if año % 2 == 1 else \"\" for año in años], rotation=45)\n",
    "\n",
    "# Mostrar el gráfico\n",
    "plt.show()"
   ]
  },
  {
   "cell_type": "markdown",
   "metadata": {},
   "source": [
    "<small>*Tras la disolución de la URSS en diciembre de 1991, Rusia experimentó una crisis demográfica sin precedentes. La transición al capitalismo trajo consigo colapso económico, aumento de mortalidad (especialmente masculina) y caída de natalidad. La crisis financiera rusa de 1998 agravó esta tendencia. Entre 1991-2005, Rusia perdió aproximadamente 5-6 millones de habitantes, un fenómeno único en países industrializados en tiempos de paz.*</small>"
   ]
  },
  {
   "cell_type": "markdown",
   "metadata": {},
   "source": [
    "#### 4.2. Crisis de Refugiados en Venezuela (2014-2022)"
   ]
  },
  {
   "cell_type": "markdown",
   "metadata": {},
   "source": [
    "##### 4.2.1. Extracción de Datos de Venezuela"
   ]
  },
  {
   "cell_type": "code",
   "execution_count": 284,
   "metadata": {},
   "outputs": [
    {
     "name": "stdout",
     "output_type": "stream",
     "text": [
      "Datos de Venezuela para el periodo 2014-2022:\n",
      "        Country Name  Year  Population\n",
      "16308  Venezuela, RB  2014    30193258\n",
      "16309  Venezuela, RB  2015    30529716\n",
      "16310  Venezuela, RB  2016    30741464\n",
      "16311  Venezuela, RB  2017    30563433\n",
      "16312  Venezuela, RB  2018    29825653\n",
      "16313  Venezuela, RB  2019    28971683\n",
      "16314  Venezuela, RB  2020    28490453\n",
      "16315  Venezuela, RB  2021    28199867\n",
      "16316  Venezuela, RB  2022    28301696\n"
     ]
    }
   ],
   "source": [
    "venezuela = df_long[df_long['Country Name'] == 'Venezuela, RB']\n",
    "\n",
    "# Filtrar el período de interés (2014-2022)\n",
    "venezuela_periodo = venezuela[(venezuela['Year'] >= 2014) & (venezuela['Year'] <= 2022)]\n",
    "\n",
    "# Verificar que tenemos el periodo correcto\n",
    "print(\"Datos de Venezuela para el periodo 2014-2022:\")\n",
    "print(venezuela_periodo.head(10))"
   ]
  },
  {
   "cell_type": "markdown",
   "metadata": {},
   "source": [
    "##### 4.2.2. Gráfico de Evolución Poblacional"
   ]
  },
  {
   "cell_type": "code",
   "execution_count": 318,
   "metadata": {},
   "outputs": [
    {
     "ename": "KeyError",
     "evalue": "'Net_Migration'",
     "output_type": "error",
     "traceback": [
      "\u001b[31m---------------------------------------------------------------------------\u001b[39m",
      "\u001b[31mKeyError\u001b[39m                                  Traceback (most recent call last)",
      "\u001b[36mFile \u001b[39m\u001b[32m~/Documents/IA_FactoriaF5/world-population-eda/venv/lib/python3.12/site-packages/pandas/core/indexes/base.py:3805\u001b[39m, in \u001b[36mIndex.get_loc\u001b[39m\u001b[34m(self, key)\u001b[39m\n\u001b[32m   3804\u001b[39m \u001b[38;5;28;01mtry\u001b[39;00m:\n\u001b[32m-> \u001b[39m\u001b[32m3805\u001b[39m     \u001b[38;5;28;01mreturn\u001b[39;00m \u001b[38;5;28;43mself\u001b[39;49m\u001b[43m.\u001b[49m\u001b[43m_engine\u001b[49m\u001b[43m.\u001b[49m\u001b[43mget_loc\u001b[49m\u001b[43m(\u001b[49m\u001b[43mcasted_key\u001b[49m\u001b[43m)\u001b[49m\n\u001b[32m   3806\u001b[39m \u001b[38;5;28;01mexcept\u001b[39;00m \u001b[38;5;167;01mKeyError\u001b[39;00m \u001b[38;5;28;01mas\u001b[39;00m err:\n",
      "\u001b[36mFile \u001b[39m\u001b[32mindex.pyx:167\u001b[39m, in \u001b[36mpandas._libs.index.IndexEngine.get_loc\u001b[39m\u001b[34m()\u001b[39m\n",
      "\u001b[36mFile \u001b[39m\u001b[32mindex.pyx:196\u001b[39m, in \u001b[36mpandas._libs.index.IndexEngine.get_loc\u001b[39m\u001b[34m()\u001b[39m\n",
      "\u001b[36mFile \u001b[39m\u001b[32mpandas/_libs/hashtable_class_helper.pxi:7081\u001b[39m, in \u001b[36mpandas._libs.hashtable.PyObjectHashTable.get_item\u001b[39m\u001b[34m()\u001b[39m\n",
      "\u001b[36mFile \u001b[39m\u001b[32mpandas/_libs/hashtable_class_helper.pxi:7089\u001b[39m, in \u001b[36mpandas._libs.hashtable.PyObjectHashTable.get_item\u001b[39m\u001b[34m()\u001b[39m\n",
      "\u001b[31mKeyError\u001b[39m: 'Net_Migration'",
      "\nThe above exception was the direct cause of the following exception:\n",
      "\u001b[31mKeyError\u001b[39m                                  Traceback (most recent call last)",
      "\u001b[36mCell\u001b[39m\u001b[36m \u001b[39m\u001b[32mIn[318]\u001b[39m\u001b[32m, line 1\u001b[39m\n\u001b[32m----> \u001b[39m\u001b[32m1\u001b[39m venezuela_periodo[\u001b[33m'\u001b[39m\u001b[33mPoblacion_Sin_Exodo\u001b[39m\u001b[33m'\u001b[39m] = venezuela_periodo[\u001b[33m'\u001b[39m\u001b[33mPopulation\u001b[39m\u001b[33m'\u001b[39m] - \u001b[43mvenezuela_periodo\u001b[49m\u001b[43m[\u001b[49m\u001b[33;43m'\u001b[39;49m\u001b[33;43mNet_Migration\u001b[39;49m\u001b[33;43m'\u001b[39;49m\u001b[43m]\u001b[49m\n\u001b[32m      3\u001b[39m \u001b[38;5;66;03m# Mostrar el resultado\u001b[39;00m\n\u001b[32m      4\u001b[39m \u001b[38;5;28mprint\u001b[39m(\u001b[33m\"\u001b[39m\u001b[33mDatos de Venezuela con estimación de población sin éxodo para cada año:\u001b[39m\u001b[33m\"\u001b[39m)\n",
      "\u001b[36mFile \u001b[39m\u001b[32m~/Documents/IA_FactoriaF5/world-population-eda/venv/lib/python3.12/site-packages/pandas/core/frame.py:4102\u001b[39m, in \u001b[36mDataFrame.__getitem__\u001b[39m\u001b[34m(self, key)\u001b[39m\n\u001b[32m   4100\u001b[39m \u001b[38;5;28;01mif\u001b[39;00m \u001b[38;5;28mself\u001b[39m.columns.nlevels > \u001b[32m1\u001b[39m:\n\u001b[32m   4101\u001b[39m     \u001b[38;5;28;01mreturn\u001b[39;00m \u001b[38;5;28mself\u001b[39m._getitem_multilevel(key)\n\u001b[32m-> \u001b[39m\u001b[32m4102\u001b[39m indexer = \u001b[38;5;28;43mself\u001b[39;49m\u001b[43m.\u001b[49m\u001b[43mcolumns\u001b[49m\u001b[43m.\u001b[49m\u001b[43mget_loc\u001b[49m\u001b[43m(\u001b[49m\u001b[43mkey\u001b[49m\u001b[43m)\u001b[49m\n\u001b[32m   4103\u001b[39m \u001b[38;5;28;01mif\u001b[39;00m is_integer(indexer):\n\u001b[32m   4104\u001b[39m     indexer = [indexer]\n",
      "\u001b[36mFile \u001b[39m\u001b[32m~/Documents/IA_FactoriaF5/world-population-eda/venv/lib/python3.12/site-packages/pandas/core/indexes/base.py:3812\u001b[39m, in \u001b[36mIndex.get_loc\u001b[39m\u001b[34m(self, key)\u001b[39m\n\u001b[32m   3807\u001b[39m     \u001b[38;5;28;01mif\u001b[39;00m \u001b[38;5;28misinstance\u001b[39m(casted_key, \u001b[38;5;28mslice\u001b[39m) \u001b[38;5;129;01mor\u001b[39;00m (\n\u001b[32m   3808\u001b[39m         \u001b[38;5;28misinstance\u001b[39m(casted_key, abc.Iterable)\n\u001b[32m   3809\u001b[39m         \u001b[38;5;129;01mand\u001b[39;00m \u001b[38;5;28many\u001b[39m(\u001b[38;5;28misinstance\u001b[39m(x, \u001b[38;5;28mslice\u001b[39m) \u001b[38;5;28;01mfor\u001b[39;00m x \u001b[38;5;129;01min\u001b[39;00m casted_key)\n\u001b[32m   3810\u001b[39m     ):\n\u001b[32m   3811\u001b[39m         \u001b[38;5;28;01mraise\u001b[39;00m InvalidIndexError(key)\n\u001b[32m-> \u001b[39m\u001b[32m3812\u001b[39m     \u001b[38;5;28;01mraise\u001b[39;00m \u001b[38;5;167;01mKeyError\u001b[39;00m(key) \u001b[38;5;28;01mfrom\u001b[39;00m\u001b[38;5;250m \u001b[39m\u001b[34;01merr\u001b[39;00m\n\u001b[32m   3813\u001b[39m \u001b[38;5;28;01mexcept\u001b[39;00m \u001b[38;5;167;01mTypeError\u001b[39;00m:\n\u001b[32m   3814\u001b[39m     \u001b[38;5;66;03m# If we have a listlike key, _check_indexing_error will raise\u001b[39;00m\n\u001b[32m   3815\u001b[39m     \u001b[38;5;66;03m#  InvalidIndexError. Otherwise we fall through and re-raise\u001b[39;00m\n\u001b[32m   3816\u001b[39m     \u001b[38;5;66;03m#  the TypeError.\u001b[39;00m\n\u001b[32m   3817\u001b[39m     \u001b[38;5;28mself\u001b[39m._check_indexing_error(key)\n",
      "\u001b[31mKeyError\u001b[39m: 'Net_Migration'"
     ]
    }
   ],
   "source": [
    "# Crear la figura para el gráfico\n",
    "plt.figure(figsize=(10, 6))\n",
    "\n",
    "# Dibujar la línea de población para Venezuela (convertida a millones)\n",
    "plt.plot(venezuela_periodo['Year'], venezuela_periodo['Population']/1000000, \n",
    "         'b-', linewidth=2.5, label='Población de Venezuela')\n",
    "\n",
    "# Añadir línea vertical para marcar el inicio de la crisis\n",
    "plt.axvline(x=2017, color='r', linestyle='--', alpha=0.7, \n",
    "            label='Intensificación de la crisis migratoria')\n",
    "\n",
    "# Personalizar el gráfico\n",
    "plt.title('Población de Venezuela (2014-2022)', fontsize=15)\n",
    "plt.xlabel('Año', fontsize=12)\n",
    "plt.ylabel('Población (millones)', fontsize=12)\n",
    "plt.grid(True, alpha=0.3)\n",
    "plt.legend(fontsize=10)\n",
    "\n",
    "# Límites del eje Y - Ajustado para que se vea mejor la caída\n",
    "plt.ylim(28, 31) \n",
    "\n",
    "# Configurar el eje X para mostrar todos los años\n",
    "años = list(range(2014, 2023))  \n",
    "plt.xticks(años, [str(año) for año in años], rotation=45)\n",
    "\n",
    "# Añadir anotación para destacar la caída\n",
    "plt.annotate('Éxodo masivo\\nde venezolanos', \n",
    "             xy=(2017.5, 30), \n",
    "             xytext=(2019, 30.5),\n",
    "             arrowprops=dict(arrowstyle='->', connectionstyle='arc3', color='black'),\n",
    "             fontsize=10)\n",
    "\n",
    "# Optimizar el espacio\n",
    "plt.tight_layout()\n",
    "\n",
    "# Mostrar el gráfico\n",
    "plt.show()"
   ]
  },
  {
   "cell_type": "markdown",
   "metadata": {},
   "source": [
    "<small>*La crisis de refugiados venezolana representa uno de los mayores desplazamientos humanos de la historia reciente de América Latina. A partir de 2016-2017, Venezuela experimentó una dramática disminución poblacional causada por la hiperinflación, escasez de alimentos y medicinas, y colapso de servicios básicos. Pese a su alta tasa de natalidad, el país perdió más de 2.5 millones de habitantes en apenas 5 años según datos oficiales, aunque organismos internacionales estiman que los emigrantes venezolanos superan los 6 millones. Este éxodo masivo ha tenido profundas consecuencias regionales, creando desafíos humanitarios en países vecinos como Colombia, Perú, Ecuador y Chile, que recibieron la mayor parte de los refugiados.*</small>\n"
   ]
  },
  {
   "cell_type": "markdown",
   "metadata": {},
   "source": [
    "#### 4.3. Impacto de la Política del Hijo Único en China"
   ]
  },
  {
   "cell_type": "markdown",
   "metadata": {},
   "source": [
    "##### 4.3.1. Extracción de Datos de China (1970-2020)"
   ]
  },
  {
   "cell_type": "code",
   "execution_count": 286,
   "metadata": {},
   "outputs": [
    {
     "name": "stdout",
     "output_type": "stream",
     "text": [
      "Primeras filas de datos de China:\n",
      "     Country Name  Year  Population\n",
      "2908        China  1970   818315000\n",
      "2909        China  1971   841105000\n",
      "2910        China  1972   862030000\n",
      "2911        China  1973   881940000\n",
      "2912        China  1974   900350000\n",
      "2913        China  1975   916395000\n",
      "2914        China  1976   930685000\n",
      "2915        China  1977   943455000\n",
      "2916        China  1978   956165000\n",
      "2917        China  1979   969005000\n",
      "2918        China  1980   981235000\n",
      "2919        China  1981   993885000\n",
      "2920        China  1982  1008630000\n",
      "2921        China  1983  1023310000\n",
      "2922        China  1984  1036825000\n",
      "2923        China  1985  1051040000\n",
      "2924        China  1986  1066790000\n",
      "2925        China  1987  1084035000\n",
      "2926        China  1988  1101630000\n",
      "2927        China  1989  1118650000\n",
      "2928        China  1990  1135185000\n",
      "2929        China  1991  1150780000\n",
      "2930        China  1992  1164970000\n",
      "2931        China  1993  1178440000\n",
      "2932        China  1994  1191835000\n",
      "2933        China  1995  1204855000\n",
      "2934        China  1996  1217550000\n",
      "2935        China  1997  1230075000\n",
      "2936        China  1998  1241935000\n",
      "2937        China  1999  1252735000\n",
      "2938        China  2000  1262645000\n",
      "2939        China  2001  1271850000\n",
      "2940        China  2002  1280400000\n",
      "2941        China  2003  1288400000\n",
      "2942        China  2004  1296075000\n",
      "2943        China  2005  1303720000\n",
      "2944        China  2006  1311020000\n",
      "2945        China  2007  1317885000\n",
      "2946        China  2008  1324655000\n",
      "2947        China  2009  1331260000\n",
      "2948        China  2010  1337705000\n",
      "2949        China  2011  1345035000\n",
      "2950        China  2012  1354190000\n",
      "2951        China  2013  1363240000\n",
      "2952        China  2014  1371860000\n",
      "2953        China  2015  1379860000\n",
      "2954        China  2016  1387790000\n",
      "2955        China  2017  1396215000\n",
      "2956        China  2018  1402760000\n",
      "2957        China  2019  1407745000\n",
      "2958        China  2020  1411100000\n"
     ]
    }
   ],
   "source": [
    "china = df_long[df_long['Country Name'] == 'China']\n",
    "\n",
    "# Filtrar el período de interés (1970-2020)\n",
    "china_periodo = china[(china['Year'] >= 1970) & (china['Year'] <= 2023)].copy()\n",
    "\n",
    "# Verificar que tenemos los datos correctos\n",
    "print(\"Primeras filas de datos de China:\")\n",
    "print(china_periodo.head(51))"
   ]
  },
  {
   "cell_type": "markdown",
   "metadata": {},
   "source": [
    "##### 4.3.2. Cálculo de Tasas de Crecimiento Anual"
   ]
  },
  {
   "cell_type": "code",
   "execution_count": 287,
   "metadata": {},
   "outputs": [
    {
     "name": "stdout",
     "output_type": "stream",
     "text": [
      "\n",
      "Datos con tasas de crecimiento:\n",
      "     Country Name  Year  Population  Crecimiento_Anual\n",
      "2909        China  1971   841105000                  3\n",
      "2910        China  1972   862030000                  2\n",
      "2911        China  1973   881940000                  2\n",
      "2912        China  1974   900350000                  2\n",
      "2913        China  1975   916395000                  2\n"
     ]
    }
   ],
   "source": [
    "# Calcular tasas de crecimiento anual\n",
    "china_periodo['Crecimiento_Anual'] = china_periodo['Population'].pct_change() * 100\n",
    "\n",
    "# Eliminar el primer año que tendrá un valor NaN (no se puede calcular el crecimiento para el primer año)\n",
    "china_crecimiento = china_periodo.dropna()\n",
    "\n",
    "# Verificar el cálculo\n",
    "print(\"\\nDatos con tasas de crecimiento:\")\n",
    "print(china_crecimiento.head())"
   ]
  },
  {
   "cell_type": "markdown",
   "metadata": {},
   "source": [
    "##### 4.3.3. Gráfico de Evolución de las Tasas de Crecimiento"
   ]
  },
  {
   "cell_type": "code",
   "execution_count": 288,
   "metadata": {},
   "outputs": [
    {
     "data": {
      "image/png": "[encoded data removed]",
      "text/plain": [
       "<Figure size 1400x700 with 1 Axes>"
      ]
     },
     "metadata": {},
     "output_type": "display_data"
    }
   ],
   "source": [
    "# Crear una nueva figura\n",
    "plt.figure(figsize=(14, 7))\n",
    "\n",
    "# Crear gráfico de barras\n",
    "bars = plt.bar(china_crecimiento['Year'], china_crecimiento['Crecimiento_Anual'], \n",
    "               width=0.8)\n",
    "\n",
    "# Colorear diferentes períodos\n",
    "for i, bar in enumerate(bars):\n",
    "    year = china_crecimiento['Year'].iloc[i]\n",
    "    if year < 1979:\n",
    "        bar.set_color('green')\n",
    "    elif 1979 <= year <= 2015:\n",
    "        bar.set_color('red')\n",
    "    else:\n",
    "        bar.set_color('orange')\n",
    "\n",
    "# Añadir líneas verticales para eventos clave\n",
    "plt.axvline(x=1979, color='darkred', linestyle='--', linewidth=2, \n",
    "            label='Inicio de la política (1979)')\n",
    "plt.axvline(x=2015, color='darkorange', linestyle='--', linewidth=2, \n",
    "            label='Fin de la política (2015)')\n",
    "\n",
    "# Añadir línea horizontal para referencia de crecimiento cero\n",
    "plt.axhline(y=0, color='black', linestyle='-', alpha=0.3)\n",
    "\n",
    "# Añadir una línea de tendencia \n",
    "years = china_crecimiento['Year'].values\n",
    "growth_rates = china_crecimiento['Crecimiento_Anual'].values\n",
    "z = np.polyfit(years, growth_rates, 3)\n",
    "p = np.poly1d(z)\n",
    "plt.plot(years, p(years), \"k--\", linewidth=1.5, alpha=0.7, label='Tendencia')\n",
    "\n",
    "# Personalizar el gráfico\n",
    "plt.title('Efecto de la Política de Hijo Único en el Crecimiento Poblacional de China', \n",
    "          fontsize=16, pad=20)\n",
    "plt.xlabel('Año', fontsize=14)\n",
    "plt.ylabel('Tasa de Crecimiento Anual (%)', fontsize=14)\n",
    "plt.grid(True, alpha=0.3, axis='y')\n",
    "\n",
    "# Añadir texto explicativo directamente en el gráfico\n",
    "plt.text(1971.5, 2.7, 'Antes: Alto crecimiento', fontsize=12, color='green')\n",
    "plt.text(1990, 1.8, 'Durante: Reducción gradual', fontsize=12, color='darkred')\n",
    "plt.text(2016, 0.7, 'Después:\\nCrecimiento mínimo\\n/nulo', fontsize=12, color='darkorange')\n",
    "\n",
    "# Configurar el eje X para mostrar años específicos\n",
    "plt.xticks(np.arange(1970, 2021, 5), rotation=45)\n",
    "plt.xlim(1970, 2023)\n",
    "\n",
    "# Añadir leyenda\n",
    "plt.legend(fontsize=12)\n",
    "\n",
    "# Mostrar el gráfico final\n",
    "plt.show()"
   ]
  },
  {
   "cell_type": "markdown",
   "metadata": {},
   "source": [
    "<small>*La política de hijo único en China (1979-2015) fue implementada para controlar el crecimiento explosivo de la población. Como se observa en la gráfica, la tasa de crecimiento se redujo significativamente durante este periodo. Sin embargo, esta política también provocó desafíos a largo plazo, como el envejecimiento acelerado de la población y un desequilibrio de género (con predominio masculino). En 2015, China abandonó esta política, permitiendo dos hijos por familia, y en 2021 amplió el límite a tres hijos para enfrentar el envejecimiento poblacional.*</small>"
   ]
  },
  {
   "cell_type": "markdown",
   "metadata": {},
   "source": [
    "### 5. Comparación de Crecimiento Poblacional: Unión Europea vs. África Subsahariana"
   ]
  },
  {
   "cell_type": "markdown",
   "metadata": {},
   "source": [
    "#### 5.1. Identificación de Entidades Regionales "
   ]
  },
  {
   "cell_type": "code",
   "execution_count": 289,
   "metadata": {},
   "outputs": [
    {
     "name": "stdout",
     "output_type": "stream",
     "text": [
      "Posibles regiones en el dataset:\n",
      "- Africa Eastern and Southern\n",
      "- Africa Western and Central\n",
      "- Central African Republic\n",
      "- Central Europe and the Baltics\n",
      "- Europe & Central Asia\n",
      "- Europe & Central Asia (IDA & IBRD countries)\n",
      "- Europe & Central Asia (excluding high income)\n",
      "- European Union\n",
      "- Middle East & North Africa\n",
      "- Middle East & North Africa (IDA & IBRD countries)\n",
      "- Middle East & North Africa (excluding high income)\n",
      "- South Africa\n",
      "- Sub-Saharan Africa\n",
      "- Sub-Saharan Africa (IDA & IBRD countries)\n",
      "- Sub-Saharan Africa (excluding high income)\n"
     ]
    }
   ],
   "source": [
    "# Mostrar todas las entidades que parecen ser regionales o continentales\n",
    "regiones = df_long[df_long['Country Name'].str.contains('Africa|Europe', case=False)]\n",
    "regiones_unicas = regiones['Country Name'].unique()\n",
    "\n",
    "print(\"Posibles regiones en el dataset:\")\n",
    "for region in sorted(regiones_unicas):\n",
    "    print(f\"- {region}\")"
   ]
  },
  {
   "cell_type": "markdown",
   "metadata": {},
   "source": [
    "#### 5.2. Agrupación de Datos para África y Europa"
   ]
  },
  {
   "cell_type": "code",
   "execution_count": 290,
   "metadata": {},
   "outputs": [
    {
     "name": "stdout",
     "output_type": "stream",
     "text": [
      "Primeros 5 resultados de África Subsahariana:\n",
      "             Country Name  Year  Population\n",
      "14427  Sub-Saharan Africa  1960   227948869\n",
      "14428  Sub-Saharan Africa  1961   233483265\n",
      "14429  Sub-Saharan Africa  1962   239280622\n",
      "14430  Sub-Saharan Africa  1963   245298063\n",
      "14431  Sub-Saharan Africa  1964   251565974\n",
      "\n",
      "Primeros 5 resultados de la Unión Europea:\n",
      "        Country Name  Year  Population\n",
      "4914  European Union  1960   356947129\n",
      "4915  European Union  1961   359937892\n",
      "4916  European Union  1962   362998792\n",
      "4917  European Union  1963   366152978\n",
      "4918  European Union  1964   369387359\n"
     ]
    }
   ],
   "source": [
    "africa_subsahariana = df_long[df_long['Country Name'] == 'Sub-Saharan Africa'].copy()\n",
    "union_europea = df_long[df_long['Country Name'] == 'European Union'].copy()\n",
    "\n",
    "# Mostrar los primeros 5 resultados de ambos DataFrames\n",
    "print(\"Primeros 5 resultados de África Subsahariana:\")\n",
    "print(africa_subsahariana.head(5))\n",
    "\n",
    "print(\"\\nPrimeros 5 resultados de la Unión Europea:\")\n",
    "print(union_europea.head(5))"
   ]
  },
  {
   "cell_type": "markdown",
   "metadata": {},
   "source": [
    "#### 5.3. Cálculo de Tasas de Crecimiento"
   ]
  },
  {
   "cell_type": "code",
   "execution_count": 291,
   "metadata": {},
   "outputs": [
    {
     "name": "stdout",
     "output_type": "stream",
     "text": [
      "Tasas de crecimiento para África Subsahariana:\n",
      "             Country Name  Year  Population  Growth_Rate\n",
      "14428  Sub-Saharan Africa  1961   233483265            2\n",
      "14429  Sub-Saharan Africa  1962   239280622            2\n",
      "14430  Sub-Saharan Africa  1963   245298063            3\n",
      "14431  Sub-Saharan Africa  1964   251565974            3\n",
      "14432  Sub-Saharan Africa  1965   258078554            3\n",
      "\n",
      "Tasas de crecimiento para Unión Europea:\n",
      "        Country Name  Year  Population  Growth_Rate\n",
      "4915  European Union  1961   359937892            1\n",
      "4916  European Union  1962   362998792            1\n",
      "4917  European Union  1963   366152978            1\n",
      "4918  European Union  1964   369387359            1\n",
      "4919  European Union  1965   372533839            1\n"
     ]
    }
   ],
   "source": [
    "africa_subsahariana['Growth_Rate'] = africa_subsahariana['Population'].pct_change() * 100\n",
    "union_europea['Growth_Rate'] = union_europea['Population'].pct_change() * 100\n",
    "\n",
    "# Eliminar el primer año que tendrá un valor NaN\n",
    "africa_subsahariana = africa_subsahariana.dropna()\n",
    "union_europea = union_europea.dropna()\n",
    "\n",
    "# Verificar los cálculos\n",
    "print(\"Tasas de crecimiento para África Subsahariana:\")\n",
    "print(africa_subsahariana[['Country Name', 'Year', 'Population', 'Growth_Rate']].head(5))\n",
    "print(\"\\nTasas de crecimiento para Unión Europea:\")\n",
    "print(union_europea[['Country Name', 'Year', 'Population', 'Growth_Rate']].head(5))"
   ]
  },
  {
   "cell_type": "markdown",
   "metadata": {},
   "source": [
    "#### 5.4. Gráfica Comparativa de las Tasas de Crecimiento para Ambas Entidades  "
   ]
  },
  {
   "cell_type": "code",
   "execution_count": 292,
   "metadata": {},
   "outputs": [
    {
     "data": {
      "image/png": "[encoded data removed]",
      "text/plain": [
       "<Figure size 2000x800 with 1 Axes>"
      ]
     },
     "metadata": {},
     "output_type": "display_data"
    }
   ],
   "source": [
    "# Crear figura\n",
    "plt.figure(figsize=(20, 8))\n",
    "\n",
    "# Dibujar las barras para África Subsahariana y la Unión Europea\n",
    "plt.bar(x - width/2, africa_subsahariana['Growth_Rate'], width, \n",
    "        label='África Subsahariana', color='green', alpha=0.7)\n",
    "plt.bar(x + width/2, union_europea['Growth_Rate'], width, \n",
    "        label='Unión Europea', color='blue', alpha=0.7)\n",
    "\n",
    "# Añadir línea horizontal en cero\n",
    "plt.axhline(y=0, color='black', linestyle='-', alpha=0.3)\n",
    "\n",
    "# Personalizar el gráfico\n",
    "plt.title('Comparación de Tasas de Crecimiento Anual: África Subsahariana vs Unión Europea', fontsize=16)\n",
    "plt.xlabel('Año', fontsize=14)\n",
    "plt.ylabel('Tasa de Crecimiento Anual (%)', fontsize=14)\n",
    "\n",
    "# Mostrar solo algunos años en el eje X para evitar saturación\n",
    "years_to_show = africa_subsahariana['Year'][::5]  # Mostrar cada 5 años\n",
    "ticks_positions = [list(africa_subsahariana['Year']).index(year) for year in years_to_show]\n",
    "plt.xticks(ticks_positions, years_to_show, rotation=45)\n",
    "\n",
    "# Añadir cuadrícula en el eje Y\n",
    "plt.grid(True, alpha=0.3, axis='y')\n",
    "\n",
    "# Mostrar leyenda\n",
    "plt.legend(fontsize=12)\n",
    "\n",
    "# Mostrar el gráfico\n",
    "plt.tight_layout()\n",
    "plt.show()\n"
   ]
  },
  {
   "cell_type": "markdown",
   "metadata": {},
   "source": [
    "<small>*Este gráfico muestra las diferentes trayectorias demográficas de África Subsahariana y la Unión Europea. Mientras que África Subsahariana mantiene altas tasas de crecimiento poblacional (entre 2.5-3% anual) debido a su estructura poblacional joven y alta tasa de fertilidad, la Unión Europea experimenta un crecimiento cada vez más reducido (por debajo del 0.5% anual en los últimos lustros).*\n",
    "\n",
    "*Esta divergencia tiene importantes implicaciones: África Subsahariana debe crear millones de empleos cada año para su población joven en constante crecimiento, mientras que la UE enfrenta un envejecimiento acelerado que pone en riesgo sus sistemas de pensiones y servicios sociales. Esta disparidad es uno de los factores que impulsan los flujos migratorios desde África hacia Europa, representando tanto un desafío como una potencial complementariedad demográfica entre ambas regiones.*</small>"
   ]
  }
 ],
 "metadata": {
  "kernelspec": {
   "display_name": "venv",
   "language": "python",
   "name": "python3"
  },
  "language_info": {
   "codemirror_mode": {
    "name": "ipython",
    "version": 3
   },
   "file_extension": ".py",
   "mimetype": "text/x-python",
   "name": "python",
   "nbconvert_exporter": "python",
   "pygments_lexer": "ipython3",
   "version": "3.12.7"
  }
 },
 "nbformat": 4,
 "nbformat_minor": 2
}
